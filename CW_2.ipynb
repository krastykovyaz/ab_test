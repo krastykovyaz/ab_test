{
 "cells": [
  {
   "cell_type": "code",
   "execution_count": null,
   "id": "9fc43d77-23b8-41ba-95ec-e36f44bef62d",
   "metadata": {},
   "outputs": [],
   "source": [
    "import numpy as np\n",
    "import pandas as pd\n",
    "import scipy.stats as sps\n",
    "import plotly.graph_objs as go"
   ]
  },
  {
   "cell_type": "markdown",
   "id": "0e3fc364-8819-4a2f-bd8c-4252fadfb2d5",
   "metadata": {},
   "source": [
    "# Точечные оценки"
   ]
  },
  {
   "cell_type": "code",
   "execution_count": null,
   "id": "58d1bfe1-7b92-4f4d-92ef-e1a57d63b4bf",
   "metadata": {},
   "outputs": [],
   "source": [
    "n1 = 10\n",
    "n2 = 1000\n",
    "n_exp = 10"
   ]
  },
  {
   "cell_type": "code",
   "execution_count": null,
   "id": "dc7c2116-df19-4f12-a672-376ec71ca74e",
   "metadata": {},
   "outputs": [],
   "source": [
    "mean_1 = []\n",
    "mean_2 = []\n",
    "std_1 = []\n",
    "std_2 = []\n",
    "for _ in range(n_exp):\n",
    "    x1 = sps.norm.rvs(loc=1, scale=1, size=n1)\n",
    "    mean_1.append(x1.mean())\n",
    "    std_1.append(x1.std(ddof=1))\n",
    "    x2 = sps.norm.rvs(loc=1, scale=1, size=n2)\n",
    "    mean_2.append(x2.mean())\n",
    "    std_2.append(x2.std(ddof=1))"
   ]
  },
  {
   "cell_type": "code",
   "execution_count": null,
   "id": "b19ffb01-cd89-46c9-853d-d04274e5d1bc",
   "metadata": {},
   "outputs": [],
   "source": [
    "mean_1"
   ]
  },
  {
   "cell_type": "code",
   "execution_count": null,
   "id": "2cc8dedc-00d9-44a2-a2de-5f188c497f8a",
   "metadata": {},
   "outputs": [],
   "source": [
    "mean_2"
   ]
  },
  {
   "cell_type": "code",
   "execution_count": null,
   "id": "d3a18691-ef76-4055-8358-f4c7d32cb5e3",
   "metadata": {},
   "outputs": [],
   "source": [
    "std_1"
   ]
  },
  {
   "cell_type": "code",
   "execution_count": null,
   "id": "e78c9d19-63d4-4e9b-a401-9b5c22cba45a",
   "metadata": {},
   "outputs": [],
   "source": [
    "std_2"
   ]
  },
  {
   "cell_type": "markdown",
   "id": "ed459527-47e2-4fdc-9bb5-2196d37df7b9",
   "metadata": {},
   "source": [
    "# Доверительные интервал"
   ]
  },
  {
   "cell_type": "code",
   "execution_count": null,
   "id": "d4d4b2bf-cd19-4962-892c-56a918e055fc",
   "metadata": {},
   "outputs": [],
   "source": [
    "alpha = 0.05\n",
    "\n",
    "n1 = 10\n",
    "n2 = 1000\n",
    "n_exp = 10000"
   ]
  },
  {
   "cell_type": "code",
   "execution_count": null,
   "id": "80ed8e54-09d1-442f-864f-743187c38527",
   "metadata": {},
   "outputs": [],
   "source": [
    "# коэффициент\n",
    "c = sps.norm.ppf(1 - alpha/2)"
   ]
  },
  {
   "cell_type": "code",
   "execution_count": null,
   "id": "ea98a564-282a-4f1b-b56d-5f143ec5a2d3",
   "metadata": {},
   "outputs": [],
   "source": [
    "c"
   ]
  },
  {
   "cell_type": "code",
   "execution_count": null,
   "id": "afa62e88-afe3-4937-9396-59f8313a4bd1",
   "metadata": {},
   "outputs": [],
   "source": [
    "mean_1 = []\n",
    "mean_2 = []\n",
    "std_1 = []\n",
    "std_2 = []\n",
    "for _ in range(n_exp):\n",
    "    x1 = sps.norm.rvs(loc=1, scale=1, size=n1)\n",
    "    mean_1.append(x1.mean())\n",
    "    std_1.append(x1.std(ddof=1))\n",
    "    x2 = sps.norm.rvs(loc=1, scale=1, size=n2)\n",
    "    mean_2.append(x2.mean())\n",
    "    std_2.append(x2.std(ddof=1))\n",
    "    \n",
    "mean_1 = np.array(mean_1)\n",
    "mean_2 = np.array(mean_2)\n",
    "std_1 = np.array(std_1)\n",
    "std_2 = np.array(std_2)"
   ]
  },
  {
   "cell_type": "code",
   "execution_count": null,
   "id": "163cce83-bea8-4b34-844a-5067472a0904",
   "metadata": {},
   "outputs": [],
   "source": [
    "CI_1 = np.array(list(zip(mean_1 - c*std_1/np.sqrt(n1), mean_1 + c*std_1/np.sqrt(n1))))"
   ]
  },
  {
   "cell_type": "code",
   "execution_count": null,
   "id": "19f32468-ff60-4300-b854-ddecd909bc0e",
   "metadata": {},
   "outputs": [],
   "source": [
    "CI_2 = np.array(list(zip(mean_2 - c*std_2/np.sqrt(n2), mean_2 + c*std_2/np.sqrt(n2))))"
   ]
  },
  {
   "cell_type": "code",
   "execution_count": null,
   "id": "45673fb4-c3a6-468a-aa0a-e2c5cbdcf5da",
   "metadata": {},
   "outputs": [],
   "source": [
    "CI_1"
   ]
  },
  {
   "cell_type": "code",
   "execution_count": null,
   "id": "6c35ec59-ef5a-416e-be00-cdf38b471ab0",
   "metadata": {},
   "outputs": [],
   "source": [
    "CI_2"
   ]
  },
  {
   "cell_type": "code",
   "execution_count": null,
   "id": "7b313a7c-4cc8-4cca-996a-b5cb724340b7",
   "metadata": {},
   "outputs": [],
   "source": [
    "df_ci_1 = pd.DataFrame(CI_1, columns=[\"left\", \"right\"])\n",
    "df_ci_1[\"contain_real_mean\"] = 1\n",
    "df_ci_1.loc[(1 < df_ci_1[\"left\"]) | (1 > df_ci_1[\"right\"]), \"contain_real_mean\"] = 0\n",
    "df_ci_1[\"contain_real_mean\"].sum() / df_ci_1[\"contain_real_mean\"].shape[0] "
   ]
  },
  {
   "cell_type": "code",
   "execution_count": null,
   "id": "2fd48e26-0943-4993-a31f-8beedc2951f7",
   "metadata": {},
   "outputs": [],
   "source": [
    "df_ci_2 = pd.DataFrame(CI_2, columns=[\"left\", \"right\"])\n",
    "df_ci_2[\"contain_real_mean\"] = 1\n",
    "df_ci_2.loc[(1 < df_ci_2[\"left\"]) | (1 > df_ci_2[\"right\"]), \"contain_real_mean\"] = 0\n",
    "df_ci_2[\"contain_real_mean\"].sum() / df_ci_2[\"contain_real_mean\"].shape[0] "
   ]
  },
  {
   "cell_type": "markdown",
   "id": "02321dfc-549d-41c1-8c34-9b9a8720108b",
   "metadata": {},
   "source": [
    "### Отрисовка"
   ]
  },
  {
   "cell_type": "code",
   "execution_count": null,
   "id": "0d937bc4-1e89-48e7-83b5-ddc6f0ef8b72",
   "metadata": {},
   "outputs": [],
   "source": [
    "size = 1000\n",
    "\n",
    "x1 = sps.norm.rvs(loc=1, scale=11.5, size=size)\n",
    "mean_1 = x1.mean()\n",
    "std_1 = x1.std(ddof=1)\n",
    "\n",
    "x2 = sps.norm.rvs(loc=1.3, scale=1, size=size)\n",
    "mean_2 = x2.mean()\n",
    "std_2 = x2.std(ddof=1)\n",
    "    \n",
    "CI_1 = [mean_1 - c*std_1 / np.sqrt(size), mean_1 + c*std_1 / np.sqrt(size)]\n",
    "\n",
    "CI_2 = [mean_2 - c*std_2 / np.sqrt(size), mean_2 + c*std_2 / np.sqrt(size)]"
   ]
  },
  {
   "cell_type": "code",
   "execution_count": null,
   "id": "c9339222-b492-4546-b39a-c2fc13e55f1d",
   "metadata": {},
   "outputs": [],
   "source": [
    "CI_1"
   ]
  },
  {
   "cell_type": "code",
   "execution_count": null,
   "id": "60c992dd-2c2a-4d99-9256-bef55e331d98",
   "metadata": {},
   "outputs": [],
   "source": [
    "CI_2"
   ]
  },
  {
   "cell_type": "code",
   "execution_count": null,
   "id": "ce781035-7d05-45f6-a615-d3b79f945484",
   "metadata": {},
   "outputs": [],
   "source": [
    "fig = go.Figure()\n",
    "fig.add_shape(type=\"rect\",\n",
    "    x0=CI_1[0], y0=1, x1=CI_1[1], y1=2,\n",
    "    fillcolor=\"lavender\",\n",
    ")\n",
    "fig.add_shape(type=\"rect\",\n",
    "    x0=CI_2[0], y0=0, x1=CI_2[1], y1=1,\n",
    "    fillcolor=\"RoyalBlue\",\n",
    ")\n",
    "fig.update_shapes(dict(xref='x', yref='y'))\n",
    "fig.show()"
   ]
  },
  {
   "cell_type": "markdown",
   "id": "ef21fad9-682a-40ec-9a78-9db73d75916b",
   "metadata": {},
   "source": [
    "## Уилсон"
   ]
  },
  {
   "cell_type": "code",
   "execution_count": null,
   "id": "28d0923f-4eab-4b5b-9b44-27728785315e",
   "metadata": {},
   "outputs": [],
   "source": [
    "size = 1000\n",
    "\n",
    "x1 = sps.bernoulli.rvs(p=0.015, size=size)\n",
    "mean_1 = x1.mean()\n",
    "std_1 = x1.std(ddof=1)\n",
    "\n",
    "x2 = sps.bernoulli.rvs(p=0.025, size=size)\n",
    "mean_2 = x2.mean()\n",
    "std_2 = x2.std(ddof=1)\n",
    "    \n",
    "CI_1 = [mean_1 - c*std_1 / np.sqrt(size), mean_1 + c*std_1 / np.sqrt(size)]\n",
    "\n",
    "CI_2 = [mean_2 - c*std_2 / np.sqrt(size), mean_2 + c*std_2 / np.sqrt(size)]"
   ]
  },
  {
   "cell_type": "code",
   "execution_count": null,
   "id": "5f155452-fc30-48f3-b252-f1eaf7dcb342",
   "metadata": {},
   "outputs": [],
   "source": [
    "CI_1, CI_2"
   ]
  },
  {
   "cell_type": "code",
   "execution_count": null,
   "id": "467ac488-6393-4609-917f-e3c935424522",
   "metadata": {},
   "outputs": [],
   "source": [
    "z = sps.norm.ppf(1 - alpha/2)"
   ]
  },
  {
   "cell_type": "code",
   "execution_count": null,
   "id": "edc1f9bb-55b2-4bf2-9de0-6541d37abe57",
   "metadata": {},
   "outputs": [],
   "source": [
    "CI_1_U = [(mean_1 + z**2 / (2*size) - z*np.sqrt(mean_1*(1-mean_1)/size + z**2/(4*size**2))) / (1 + z**2 / size),\n",
    "          (mean_1 + z**2 / (2*size) + z*np.sqrt(mean_1*(1-mean_1)/size + z**2/(4*size**2))) / (1 + z**2 / size)]"
   ]
  },
  {
   "cell_type": "code",
   "execution_count": null,
   "id": "a74d798e-4930-4add-85f9-70d2fcc9e804",
   "metadata": {},
   "outputs": [],
   "source": [
    "CI_2_U = [(mean_2 + z**2 / (2*size) - z*np.sqrt(mean_2*(1-mean_2)/size + z**2/(4*size**2))) / (1 + z**2 / size),\n",
    "          (mean_2 + z**2 / (2*size) + z*np.sqrt(mean_2*(1-mean_2)/size + z**2/(4*size**2))) / (1 + z**2 / size)]"
   ]
  },
  {
   "cell_type": "code",
   "execution_count": null,
   "id": "c1580aa3-cbc2-4bca-b7a2-288083efb97d",
   "metadata": {},
   "outputs": [],
   "source": [
    "CI_1_U, CI_2_U"
   ]
  },
  {
   "cell_type": "markdown",
   "id": "0e716796-d7d2-41d5-b572-62dfda67d602",
   "metadata": {},
   "source": [
    "# Bootstrap"
   ]
  },
  {
   "cell_type": "code",
   "execution_count": null,
   "id": "2c9deef9-8283-4b04-aa5a-077f89b1512b",
   "metadata": {},
   "outputs": [],
   "source": [
    "def get_bootstrap_sample_indices(sample_size: int, n_samples: int) -> np.ndarray:\n",
    "    return np.random.randint(0, sample_size, (n_samples, sample_size))\n",
    "\n",
    "def get_bootstrap_samples(X: np.ndarray, n_samples: int) -> np.ndarray:\n",
    "    return X[get_bootstrap_sample_indices(len(X), n_samples)]"
   ]
  },
  {
   "cell_type": "code",
   "execution_count": null,
   "id": "7b2f11e5-af8c-4d4b-87fd-1862e6116cd4",
   "metadata": {},
   "outputs": [],
   "source": [
    "size = 100\n",
    "x_a = sps.expon.rvs(loc=4, scale=16, size=size)"
   ]
  },
  {
   "cell_type": "code",
   "execution_count": null,
   "id": "47567caa-2365-4557-ac78-2a9a1b90f8df",
   "metadata": {},
   "outputs": [],
   "source": [
    "np.median(x_a)"
   ]
  },
  {
   "cell_type": "code",
   "execution_count": null,
   "id": "f729a7c6-60ca-4f8c-a36f-f2898df2ff92",
   "metadata": {},
   "outputs": [],
   "source": [
    "X_bootstrap = get_bootstrap_samples(x_a, n_samples=10_000)"
   ]
  },
  {
   "cell_type": "code",
   "execution_count": null,
   "id": "b2bf9511-de2e-4443-bf52-208cb9881da1",
   "metadata": {},
   "outputs": [],
   "source": [
    "X_bootstrap"
   ]
  },
  {
   "cell_type": "code",
   "execution_count": null,
   "id": "2f93d4f2-cd53-42ff-a076-35decaaa8f83",
   "metadata": {},
   "outputs": [],
   "source": [
    "metrics_mean = np.median(X_bootstrap, axis=1)"
   ]
  },
  {
   "cell_type": "code",
   "execution_count": null,
   "id": "00fa4d3a-4f36-4093-a9ce-32337718f891",
   "metadata": {},
   "outputs": [],
   "source": [
    "go.Figure([go.Histogram(x=metrics_mean)])"
   ]
  },
  {
   "cell_type": "code",
   "execution_count": null,
   "id": "406c4341-a368-4b5a-9264-fc7336187152",
   "metadata": {},
   "outputs": [],
   "source": [
    "alpha = 0.05"
   ]
  },
  {
   "cell_type": "code",
   "execution_count": null,
   "id": "99d9882b-a9d4-4912-add3-218a085950c5",
   "metadata": {},
   "outputs": [],
   "source": [
    "CI = np.percentile(metrics_mean, (alpha * 100, (1 - alpha) * 100))"
   ]
  },
  {
   "cell_type": "code",
   "execution_count": null,
   "id": "ebb623e2-ecd8-4c8a-a61c-6cd90acf88ac",
   "metadata": {},
   "outputs": [],
   "source": [
    "CI"
   ]
  },
  {
   "cell_type": "markdown",
   "id": "3808d8e0-2583-4355-9b21-24fce60c32ab",
   "metadata": {},
   "source": [
    "# T-test"
   ]
  },
  {
   "cell_type": "code",
   "execution_count": null,
   "id": "014da3ca-fe18-4f19-ac1f-12562a116253",
   "metadata": {},
   "outputs": [],
   "source": [
    "size = 30\n",
    "n_sample = 1000\n",
    "p_values = []\n",
    "for _ in range(n_sample):\n",
    "    x_a = sps.norm.rvs(loc=1, scale=11.5, size=size)\n",
    "    x_b = sps.norm.rvs(loc=1, scale=1, size=size)\n",
    "    p_values.append(sps.mannwhitneyu(x_a, x_b).pvalue)\n",
    "p_values = np.array(p_values)"
   ]
  },
  {
   "cell_type": "code",
   "execution_count": null,
   "id": "814c6044-5253-4802-8a9a-9570ab85083a",
   "metadata": {},
   "outputs": [],
   "source": [
    "p_values[p_values < 0.05].shape[0] / n_sample"
   ]
  },
  {
   "cell_type": "code",
   "execution_count": null,
   "id": "382d7da4-607b-4ebd-90e7-057a7bdd180a",
   "metadata": {},
   "outputs": [],
   "source": [
    "size = 30\n",
    "n_sample = 1000\n",
    "p_values = []\n",
    "for _ in range(n_sample):\n",
    "    x_a = sps.expon.rvs(loc=1, scale=1, size=size)\n",
    "    x_b = sps.expon.rvs(loc=1, scale=1, size=size)\n",
    "    p_values.append(sps.ttest_ind(x_a, x_b, equal_var=False).pvalue)\n",
    "p_values = np.array(p_values)"
   ]
  },
  {
   "cell_type": "code",
   "execution_count": null,
   "id": "7b3ffadf-97d0-4b2f-aca9-c60098713b2d",
   "metadata": {},
   "outputs": [],
   "source": [
    "p_values[p_values < 0.05].shape[0] / n_sample"
   ]
  },
  {
   "cell_type": "markdown",
   "id": "855632ef-fd03-4a51-9fd7-2eecfc9955e7",
   "metadata": {},
   "source": [
    "# Манн-Уитни"
   ]
  },
  {
   "cell_type": "code",
   "execution_count": null,
   "id": "48eb442d-2b14-4f39-991a-4b7bc49baec8",
   "metadata": {},
   "outputs": [],
   "source": [
    "x_a = [15, 12, 12, 10]\n",
    "x_b = [14, 11, 9, 9]"
   ]
  },
  {
   "cell_type": "code",
   "execution_count": null,
   "id": "c824a179-fa4c-4aeb-b086-aeced9ba836e",
   "metadata": {},
   "outputs": [],
   "source": [
    "sps.mannwhitneyu(x_a, x_b)"
   ]
  },
  {
   "cell_type": "code",
   "execution_count": null,
   "id": "f9991faa-639f-40e0-b791-309009619dc4",
   "metadata": {},
   "outputs": [],
   "source": [
    "xr_a = [0, 2.5, 2.5, 5]\n",
    "xr_b = [1, 4, 6.5, 6.5]"
   ]
  },
  {
   "cell_type": "code",
   "execution_count": null,
   "id": "e0f1203d-3c20-4626-8da9-94100791f0c6",
   "metadata": {},
   "outputs": [],
   "source": [
    "sps.ttest_ind(xr_a, xr_b)"
   ]
  },
  {
   "cell_type": "code",
   "execution_count": null,
   "id": "5e68641f-72a3-4999-aa54-e6d821466068",
   "metadata": {},
   "outputs": [],
   "source": [
    "size = 30\n",
    "n_sample = 1000\n",
    "p_values = []\n",
    "for _ in range(n_sample):\n",
    "    x_a = sps.norm.rvs(loc=1, scale=1, size=size)\n",
    "    x_b = sps.norm.rvs(loc=1, scale=1, size=size)\n",
    "    p_values.append(sps.mannwhitneyu(x_a, x_b).pvalue)\n",
    "p_values = np.array(p_values)"
   ]
  },
  {
   "cell_type": "code",
   "execution_count": null,
   "id": "e6c844c8-4b55-470d-bcdf-5ced2a5d217b",
   "metadata": {},
   "outputs": [],
   "source": [
    "p_values[p_values < 0.05].shape[0] / n_sample"
   ]
  },
  {
   "cell_type": "code",
   "execution_count": null,
   "id": "dc3e9020-bf6d-419b-8be4-b8f4d9003a93",
   "metadata": {},
   "outputs": [],
   "source": [
    "size = 30\n",
    "n_sample = 1000\n",
    "p_values = []\n",
    "for _ in range(n_sample):\n",
    "    x_a = sps.expon.rvs(loc=1, scale=1, size=size)\n",
    "    x_b = sps.expon.rvs(loc=1, scale=1, size=size)\n",
    "    p_values.append(sps.mannwhitneyu(x_a, x_b).pvalue)\n",
    "p_values = np.array(p_values)"
   ]
  },
  {
   "cell_type": "code",
   "execution_count": null,
   "id": "612bf473-18a5-4b5c-8219-db07361edb51",
   "metadata": {},
   "outputs": [],
   "source": [
    "p_values[p_values < 0.05].shape[0] / n_sample"
   ]
  },
  {
   "cell_type": "markdown",
   "id": "59fd9c06-1584-4795-a351-dd3d31b3cdde",
   "metadata": {},
   "source": [
    "# Мощность критерия"
   ]
  },
  {
   "cell_type": "code",
   "execution_count": null,
   "id": "d5eae7c5-c064-4a2e-be07-b77eff09e201",
   "metadata": {},
   "outputs": [],
   "source": [
    "size = 100\n",
    "effect = 10\n",
    "n_exp = 10_000\n",
    "alpha = 0.05\n",
    "\n",
    "p_values = []\n",
    "for i in range(n_exp):\n",
    "    x_a = sps.norm.rvs(loc=10, scale=3, size=size)\n",
    "    x_b = sps.norm.rvs(loc=10 + effect, scale=3, size=size)\n",
    "    p_value = sps.ttest_ind(x_a, x_b).pvalue\n",
    "    p_values.append(p_value)\n",
    "p_values = np.array(p_values)"
   ]
  },
  {
   "cell_type": "markdown",
   "id": "ed229741-c51b-4e28-b0eb-c11beb7f5ac7",
   "metadata": {},
   "source": [
    "Оценка мощности"
   ]
  },
  {
   "cell_type": "code",
   "execution_count": null,
   "id": "4b39db11-1c91-46f7-ad46-3130e376d33e",
   "metadata": {},
   "outputs": [],
   "source": [
    "p_values[p_values < alpha].shape[0] / p_values.shape[0] * 100"
   ]
  },
  {
   "cell_type": "markdown",
   "id": "f2c65c5f-6fbb-4891-a021-f83a14cfdf56",
   "metadata": {},
   "source": [
    "# Корректность критерия"
   ]
  },
  {
   "cell_type": "markdown",
   "id": "3c86e1df-43ca-4428-9e3d-d892b4b4e17d",
   "metadata": {},
   "source": [
    "Вариант с нормальными распределениями"
   ]
  },
  {
   "cell_type": "code",
   "execution_count": null,
   "id": "cdbba8cc-8ea3-4768-8834-70dbecf9b59b",
   "metadata": {},
   "outputs": [],
   "source": [
    "p_values = []\n",
    "size = 5\n",
    "n_exp = 1000\n",
    "for i in range(n_exp):\n",
    "    x_a = sps.norm.rvs(loc=1, scale=1, size=size)\n",
    "    x_b = sps.norm.rvs(loc=1, scale=1, size=size)\n",
    "    p_value = sps.ttest_ind(x_a, x_b, equal_var=False).pvalue\n",
    "    p_values.append(p_value)\n",
    "p_values = np.array(p_values)"
   ]
  },
  {
   "cell_type": "markdown",
   "id": "976e153c-b888-4d1f-b1a1-68f15637a417",
   "metadata": {},
   "source": [
    "Вариант с смесью нормальных распределений"
   ]
  },
  {
   "cell_type": "code",
   "execution_count": null,
   "id": "0809d6aa-9b39-4576-8c19-f63670e594ed",
   "metadata": {},
   "outputs": [],
   "source": [
    "p_values = []\n",
    "size = 100\n",
    "n_exp = 10000\n",
    "for i in range(n_exp):\n",
    "    x_a = np.append(\n",
    "        sps.norm.rvs(loc=1, scale=1, size=size),\n",
    "        sps.norm.rvs(loc=0.5, scale=0.1, size=size),\n",
    "    )\n",
    "    x_b = np.append(\n",
    "        sps.norm.rvs(loc=1, scale=1, size=size),\n",
    "        sps.norm.rvs(loc=0.5, scale=0.1, size=size),\n",
    "    )\n",
    "    p_value = sps.ttest_ind(x_a, x_b).pvalue\n",
    "    p_values.append(p_value)\n",
    "p_values = np.array(p_values)"
   ]
  },
  {
   "cell_type": "markdown",
   "id": "9481eed6-4a86-452f-b488-13fcbb6e8e71",
   "metadata": {},
   "source": [
    "Другой вариант со смесью нормальных распеределений"
   ]
  },
  {
   "cell_type": "code",
   "execution_count": null,
   "id": "dc843eae-e284-41c6-b963-be466b4adcaa",
   "metadata": {},
   "outputs": [],
   "source": [
    "p_values = []\n",
    "size = 100\n",
    "n_exp = 10000\n",
    "for i in range(n_exp):\n",
    "    a_1 = sps.norm.rvs(loc=1, scale=1, size=size)\n",
    "    a_2 = sps.norm.rvs(loc=0.5, scale=0.1, size=size)\n",
    "    a_mask = sps.randint.rvs(0, 2, size=size).astype(bool)\n",
    "    x_a = np.append(\n",
    "        a_1[a_mask],\n",
    "        a_2[~a_mask],\n",
    "    )\n",
    "    \n",
    "    b_1 = sps.norm.rvs(loc=1, scale=1, size=size)\n",
    "    b_2 = sps.norm.rvs(loc=0.5, scale=0.1, size=size)\n",
    "    b_mask = sps.randint.rvs(0, 2, size=size).astype(bool)\n",
    "    x_b = np.append(\n",
    "        b_1[b_mask],\n",
    "        b_2[~b_mask],\n",
    "    )\n",
    "    p_value = sps.ttest_ind(x_a, x_b, equal_var=True).pvalue\n",
    "    p_values.append(p_value)\n",
    "p_values = np.array(p_values)"
   ]
  },
  {
   "cell_type": "markdown",
   "id": "ebc9b9da-3cd8-44d0-a2a7-cf3f8a6ae0cc",
   "metadata": {},
   "source": [
    "Экспоненциальные распределения"
   ]
  },
  {
   "cell_type": "code",
   "execution_count": null,
   "id": "39fc6bcb-fdfe-40b7-9d79-7f379e035e6f",
   "metadata": {},
   "outputs": [],
   "source": [
    "p_values = []\n",
    "size = 15\n",
    "n_exp = 10000\n",
    "for i in range(n_exp):\n",
    "    x_a = sps.expon.rvs(scale=1/2, size=size)\n",
    "    x_b = sps.expon.rvs(scale=1/2, size=size)\n",
    "    p_value = sps.ttest_ind(x_a, x_b).pvalue\n",
    "    p_values.append(p_value)\n",
    "p_values = np.array(p_values)"
   ]
  },
  {
   "cell_type": "markdown",
   "id": "20e84494-3ac2-436d-955f-fa5b94572b6f",
   "metadata": {},
   "source": [
    "Бернулли распределение"
   ]
  },
  {
   "cell_type": "code",
   "execution_count": null,
   "id": "383744a0-e8b1-4525-b735-4595521a19c8",
   "metadata": {},
   "outputs": [],
   "source": [
    "p_values = []\n",
    "size = 1000\n",
    "n_exp = 10000\n",
    "for i in range(n_exp):\n",
    "    x_a = sps.bernoulli.rvs(p=0.05, size=size)\n",
    "    x_b = sps.bernoulli.rvs(p=0.05, size=size)\n",
    "    p_value = sps.ttest_ind(x_a, x_b).pvalue\n",
    "    p_values.append(p_value)\n",
    "p_values = np.array(p_values)"
   ]
  },
  {
   "cell_type": "markdown",
   "id": "bd73d5df-d63a-42d1-b95b-0d5760cfd2a9",
   "metadata": {},
   "source": [
    "### Оценка распределения"
   ]
  },
  {
   "cell_type": "code",
   "execution_count": null,
   "id": "ec4a22ef-9759-477d-bc26-5f24040d4e14",
   "metadata": {},
   "outputs": [],
   "source": [
    "fig = go.Figure([go.Histogram(x=x_a, opacity=0.8),\n",
    "                 go.Histogram(x=x_b, opacity=0.8)])\n",
    "fig.update_layout(barmode=\"overlay\")"
   ]
  },
  {
   "cell_type": "markdown",
   "id": "ec82df93-04c4-4a6c-92f8-3571b08de89b",
   "metadata": {},
   "source": [
    "### Оценка критерия на данных"
   ]
  },
  {
   "cell_type": "code",
   "execution_count": null,
   "id": "cefca0a6-d942-45f3-b1f3-c58b87590d0a",
   "metadata": {},
   "outputs": [],
   "source": [
    "alpha = 0.05"
   ]
  },
  {
   "cell_type": "code",
   "execution_count": null,
   "id": "9f729850-d198-4557-915f-77e73e14fa53",
   "metadata": {},
   "outputs": [],
   "source": [
    "p_values[p_values < alpha].shape[0] / p_values.shape[0]"
   ]
  },
  {
   "cell_type": "code",
   "execution_count": null,
   "id": "e0fe4ffd-69fc-42da-b053-cc01d4c89878",
   "metadata": {},
   "outputs": [],
   "source": [
    "probs = []\n",
    "x = [0.01 * i for i in range(101)]\n",
    "for i in range(101):\n",
    "    alpha_step = 0.01 * i\n",
    "    probs.append(p_values[p_values < alpha_step].shape[0] / p_values.shape[0])"
   ]
  },
  {
   "cell_type": "code",
   "execution_count": null,
   "id": "5db14eda-a4ce-4e58-a20e-92d2d56f19bc",
   "metadata": {},
   "outputs": [],
   "source": [
    "fig = go.Figure([go.Scatter(x=x, y=probs, mode=\"markers\", name=\"p_value\"),\n",
    "                 go.Scatter(x=x, y=x, mode=\"lines\", name=\"uniform\")])\n",
    "fig.update_layout(height=600, width=600, title=\"Q-Q plot\")"
   ]
  },
  {
   "cell_type": "code",
   "execution_count": null,
   "id": "673c45cf-f7a0-4088-b87c-64b046f960b9",
   "metadata": {},
   "outputs": [],
   "source": [
    "fig = go.Figure([go.Histogram(x=p_values, xbins={\"start\":0, \"end\":1, \"size\": 0.1})])\n",
    "fig"
   ]
  },
  {
   "cell_type": "code",
   "execution_count": null,
   "id": "98e9eae3-614b-48cf-856a-95d2d22e3a9f",
   "metadata": {},
   "outputs": [],
   "source": []
  }
 ],
 "metadata": {
  "kernelspec": {
   "display_name": "Python 3 (ipykernel)",
   "language": "python",
   "name": "python3"
  },
  "language_info": {
   "codemirror_mode": {
    "name": "ipython",
    "version": 3
   },
   "file_extension": ".py",
   "mimetype": "text/x-python",
   "name": "python",
   "nbconvert_exporter": "python",
   "pygments_lexer": "ipython3",
   "version": "3.9.16"
  }
 },
 "nbformat": 4,
 "nbformat_minor": 5
}
