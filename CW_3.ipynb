{
 "cells": [
  {
   "cell_type": "code",
   "execution_count": null,
   "id": "1e68c527-4432-4629-9c03-0a4d1f9896da",
   "metadata": {},
   "outputs": [],
   "source": [
    "import numpy as np\n",
    "import pandas as pd\n",
    "import scipy.stats as sps\n",
    "import plotly.graph_objs as go"
   ]
  },
  {
   "cell_type": "markdown",
   "id": "94ed556a-4092-4dde-94a6-a9f93052ee79",
   "metadata": {
    "tags": []
   },
   "source": [
    "# Доп функции"
   ]
  },
  {
   "cell_type": "code",
   "execution_count": null,
   "id": "2ecd5438-0c68-4880-9b8f-008bc3d5a01b",
   "metadata": {},
   "outputs": [],
   "source": [
    "def get_qq_plot(p_values):\n",
    "    \"\"\"Рисует распределение p-value\"\"\"\n",
    "    p_values = np.array(p_values)\n",
    "    probs = []\n",
    "    x = [0.01 * i for i in range(101)]\n",
    "    for i in range(101):\n",
    "        alpha_step = 0.01 * i\n",
    "        probs.append(p_values[p_values < alpha_step].shape[0] / p_values.shape[0])\n",
    "    fig = go.Figure([go.Scatter(x=x, y=probs, mode=\"markers\", name=\"p_value\"),\n",
    "                 go.Scatter(x=x, y=x, mode=\"lines\", name=\"uniform\")])\n",
    "    fig.update_layout(height=600, width=600, title=\"Q-Q plot\") \n",
    "    return fig"
   ]
  },
  {
   "cell_type": "code",
   "execution_count": null,
   "id": "1f1bdb04-152a-4b6d-a1fd-266dee9c1fb1",
   "metadata": {},
   "outputs": [],
   "source": [
    "def get_power(p_values, alpha=0.05):\n",
    "    \"\"\"Оценка мощности критерия, при условии, что значения p_value взяты при наличии \n",
    "    различий в сравниваемых выборках \n",
    "    \"\"\"\n",
    "    p_values = np.array(p_values)\n",
    "    return p_values[p_values < alpha].shape[0] / p_values.shape[0] * 100"
   ]
  },
  {
   "cell_type": "markdown",
   "id": "78e90bfb-a411-42bd-910f-eeeb4093887b",
   "metadata": {
    "tags": []
   },
   "source": [
    "# Длительность"
   ]
  },
  {
   "cell_type": "code",
   "execution_count": null,
   "id": "16ebc8f6-0320-4481-856f-ec2730c7245c",
   "metadata": {},
   "outputs": [],
   "source": [
    "def duration(k, delta_effect, sigma_1, sigma_2, alpha=0.05, beta=0.2):\n",
    "    z = sps.norm.ppf(1 - alpha/2) + sps.norm.ppf(1-beta)\n",
    "    n = (k+1) * z ** 2 * (sigma_1 ** 2 + sigma_2 **2 / k) / (delta_effect ** 2)\n",
    "    return n"
   ]
  },
  {
   "cell_type": "code",
   "execution_count": null,
   "id": "8b5ea2de-d521-42d0-99a0-dc39af3a920d",
   "metadata": {},
   "outputs": [],
   "source": [
    "duration(k=1, delta_effect=10, sigma_1=140, sigma_2=140, alpha=0.1, beta=0.2)"
   ]
  },
  {
   "cell_type": "markdown",
   "id": "6b599bdd-fb52-486b-8d03-3d0578ab4484",
   "metadata": {},
   "source": [
    "##### Случай для конверсии"
   ]
  },
  {
   "cell_type": "code",
   "execution_count": null,
   "id": "e3a4f970-69f0-4e33-83b8-7bbb41dcaac6",
   "metadata": {},
   "outputs": [],
   "source": [
    "p = 0.005"
   ]
  },
  {
   "cell_type": "code",
   "execution_count": null,
   "id": "f81d592e-add6-43d6-941e-2bd4620d7e97",
   "metadata": {},
   "outputs": [],
   "source": [
    "duration(k=1, delta_effect=0.0001, sigma_1=p*(1-p), sigma_2=p*(1-p), alpha=0.05)"
   ]
  },
  {
   "cell_type": "markdown",
   "id": "7378202f-58d5-45f2-9e39-6e6fa04b57fe",
   "metadata": {},
   "source": [
    "# Ratio-метрика + Линеаризация"
   ]
  },
  {
   "cell_type": "markdown",
   "id": "89c7c4d5-696d-469f-b6e6-6bf29d53af32",
   "metadata": {},
   "source": [
    "Дальше приведены 2 блока кода: в пером в генерируемых выборках нет изменений, во втором - изменения есть"
   ]
  },
  {
   "cell_type": "markdown",
   "id": "8c47b5b8-39ac-407f-a5ff-90a00af91f35",
   "metadata": {},
   "source": [
    "##### Изменений нет"
   ]
  },
  {
   "cell_type": "code",
   "execution_count": null,
   "id": "60a3af26-8877-40f2-ab3c-719b10908fb4",
   "metadata": {},
   "outputs": [],
   "source": [
    "%%time\n",
    "n_exp = 1000\n",
    "p_values = []\n",
    "p_values_lin = []\n",
    "for _ in range(n_exp):\n",
    "    records = []\n",
    "    for i in range(100):\n",
    "        n_views = int(sps.expon.rvs(loc=100, scale=100))\n",
    "        clicks = sps.bernoulli.rvs(p=0.05, size=n_views)\n",
    "        records.append([n_views, np.sum(clicks), np.sum(clicks)/ n_views, \"A\"])\n",
    "    for i in range(100):\n",
    "        n_views = int(sps.expon.rvs(loc=100, scale=100))\n",
    "        clicks = sps.bernoulli.rvs(p=0.05, size=n_views)\n",
    "        records.append([n_views, np.sum(clicks), np.sum(clicks)/ n_views, \"B\"])\n",
    "    df_data = pd.DataFrame(records, columns=[\"views\", \"clicks\", \"cr\", \"group\"])\n",
    "    \n",
    "    cr_A = df_data[df_data[\"group\"] == \"A\"][\"clicks\"].sum() / df_data[df_data[\"group\"] == \"A\"][\"views\"].sum()\n",
    "    df_data[\"cr_lin\"] = df_data[\"clicks\"] - cr_A * df_data[\"views\"]\n",
    "\n",
    "    x_a = df_data[df_data[\"group\"] == \"A\"][\"cr\"]\n",
    "    x_b = df_data[df_data[\"group\"] == \"B\"][\"cr\"]\n",
    "    p_value = sps.ttest_ind(x_a, x_b).pvalue\n",
    "    p_values.append(p_value)\n",
    "    \n",
    "    x_a_lin = df_data[df_data[\"group\"] == \"A\"][\"cr_lin\"]\n",
    "    x_b_lin = df_data[df_data[\"group\"] == \"B\"][\"cr_lin\"]\n",
    "    p_value_lin = sps.ttest_ind(x_a_lin, x_b_lin).pvalue\n",
    "    p_values_lin.append(p_value_lin)"
   ]
  },
  {
   "cell_type": "markdown",
   "id": "70d9fe11-6203-4c57-9888-69c6c345e1e1",
   "metadata": {},
   "source": [
    "##### Оценка корректности"
   ]
  },
  {
   "cell_type": "code",
   "execution_count": null,
   "id": "2ab4bd0c-acab-413d-9009-334c8fbe43a3",
   "metadata": {},
   "outputs": [],
   "source": [
    "get_qq_plot(p_values)"
   ]
  },
  {
   "cell_type": "code",
   "execution_count": null,
   "id": "6a35883e-5a01-4460-8f8d-7cb67a4575f5",
   "metadata": {},
   "outputs": [],
   "source": [
    "get_qq_plot(p_values_lin)"
   ]
  },
  {
   "cell_type": "markdown",
   "id": "5b964a05-f78f-4704-9b19-0a0aaf42e518",
   "metadata": {},
   "source": [
    "##### Изменения есть"
   ]
  },
  {
   "cell_type": "code",
   "execution_count": null,
   "id": "cc737544-3f3e-4d13-913e-748c00e44f6a",
   "metadata": {},
   "outputs": [],
   "source": [
    "%%time\n",
    "n_exp = 1000\n",
    "p_values = []\n",
    "p_values_lin = []\n",
    "for _ in range(n_exp):\n",
    "    records = []\n",
    "    for i in range(100):\n",
    "        n_views = int(sps.expon.rvs(loc=100, scale=100))\n",
    "        clicks = sps.bernoulli.rvs(p=0.05, size=n_views)\n",
    "        records.append([n_views, np.sum(clicks), np.sum(clicks)/ n_views, \"A\"])\n",
    "    for i in range(100):\n",
    "        n_views = int(sps.expon.rvs(loc=100, scale=100))\n",
    "        clicks = sps.bernoulli.rvs(p=0.055, size=n_views)\n",
    "        records.append([n_views, np.sum(clicks), np.sum(clicks)/ n_views, \"B\"])\n",
    "    df_data = pd.DataFrame(records, columns=[\"views\", \"clicks\", \"cr\", \"group\"])\n",
    "    cr_A = df_data[df_data[\"group\"] == \"A\"][\"clicks\"].sum() / df_data[df_data[\"group\"] == \"A\"][\"views\"].sum()\n",
    "    df_data[\"cr_lin\"] = df_data[\"clicks\"] - cr_A * df_data[\"views\"]\n",
    "\n",
    "    x_a = df_data[df_data[\"group\"] == \"A\"][\"cr\"]\n",
    "    x_b = df_data[df_data[\"group\"] == \"B\"][\"cr\"]\n",
    "    p_value = sps.ttest_ind(x_a, x_b).pvalue\n",
    "    p_values.append(p_value)\n",
    "    \n",
    "    x_a_lin = df_data[df_data[\"group\"] == \"A\"][\"cr_lin\"]\n",
    "    x_b_lin = df_data[df_data[\"group\"] == \"B\"][\"cr_lin\"]\n",
    "    p_value_lin = sps.ttest_ind(x_a_lin, x_b_lin).pvalue\n",
    "    p_values_lin.append(p_value_lin)"
   ]
  },
  {
   "cell_type": "markdown",
   "id": "fe747da0-32be-4022-9cc8-587f13f59c5d",
   "metadata": {},
   "source": [
    "##### Оценка мощности"
   ]
  },
  {
   "cell_type": "code",
   "execution_count": null,
   "id": "3a177188-b798-491c-8d0e-da400972b988",
   "metadata": {},
   "outputs": [],
   "source": [
    "get_power(p_values)"
   ]
  },
  {
   "cell_type": "code",
   "execution_count": null,
   "id": "91476e4e-529c-4fa9-b2ff-13e20a38f083",
   "metadata": {},
   "outputs": [],
   "source": [
    "get_power(p_values_lin)"
   ]
  },
  {
   "cell_type": "markdown",
   "id": "db0ccbc0-7aee-4dcc-a4c9-3803c9930a9d",
   "metadata": {},
   "source": [
    "# Стратификация"
   ]
  },
  {
   "cell_type": "code",
   "execution_count": null,
   "id": "8d267ca3-b3df-4d33-af15-f92ae19bd047",
   "metadata": {
    "tags": []
   },
   "outputs": [],
   "source": [
    "def ttest_strat(df_A, df_B):\n",
    "    \"\"\"Функция для оценки стратифицированного среднего\"\"\"\n",
    "    T = df_A[\"payments\"].mean() - df_B[\"payments\"].mean()\n",
    "    D_A = (df_A.groupby(\"city\")[\"payments\"].std(ddof=1) ** 2 * df_A.groupby(\"city\")[\"payments\"].count() / (df_A.shape[0]**2)).sum()\n",
    "    D_B = (df_B.groupby(\"city\")[\"payments\"].std(ddof=1) ** 2 * df_B.groupby(\"city\")[\"payments\"].count() / (df_B.shape[0]**2)).sum()\n",
    "    \n",
    "    T = T / np.sqrt(D_A + D_B)\n",
    "\n",
    "    T = np.abs(T)\n",
    "    p_value = 2 * (1 - sps.norm.cdf(np.abs(T)))\n",
    "    return p_value"
   ]
  },
  {
   "cell_type": "markdown",
   "id": "d882b128-5005-4391-af06-5d6e95f688bc",
   "metadata": {},
   "source": [
    "##### Различий между выборками нет"
   ]
  },
  {
   "cell_type": "code",
   "execution_count": null,
   "id": "d7f66669-7da7-4ee5-b158-0658924595a1",
   "metadata": {},
   "outputs": [],
   "source": [
    "%%time\n",
    "n_exp = 1000\n",
    "p_values = []\n",
    "p_values_strat = []\n",
    "size = 1000\n",
    "for _ in range(n_exp):\n",
    "    df_A = pd.DataFrame()\n",
    "    df_A[\"user\"] = [f\"A_{x:5}\" for x in range(size)]\n",
    "    df_A[\"city\"] = pd.Series([1]*int(size*0.3) + [0]*int(size*0.7)).map({0: \"Moscow\", 1: \"Tula\"})\n",
    "    mask_Moscow = df_A[\"city\"] == \"Moscow\"\n",
    "    df_A.loc[mask_Moscow, \"payments\"] = sps.norm.rvs(loc=100, scale=20, size=mask_Moscow.sum())\n",
    "    mask_Tula = df_A[\"city\"] == \"Tula\"\n",
    "    df_A.loc[mask_Tula, \"payments\"] = sps.norm.rvs(loc=80, scale=10, size=mask_Tula.sum()) \n",
    "    \n",
    "    df_B = pd.DataFrame()\n",
    "    df_B[\"user\"] = [f\"B_{x:5}\" for x in range(size)]\n",
    "    df_B[\"city\"] = pd.Series([1]*int(size*0.3) + [0]*int(size*0.7)).map({0: \"Moscow\", 1: \"Tula\"})\n",
    "#pd.Series(sps.bernoulli.rvs(p=0.3, size=size)).map({0: \"Moscow\", 1: \"Tula\"})\n",
    "    mask_Moscow = df_B[\"city\"] == \"Moscow\"\n",
    "    df_B.loc[mask_Moscow, \"payments\"] = sps.norm.rvs(loc=100, scale=20, size=mask_Moscow.sum())\n",
    "    mask_Tula = df_B[\"city\"] == \"Tula\"\n",
    "    df_B.loc[mask_Tula, \"payments\"] = sps.norm.rvs(loc=80, scale=10, size=mask_Tula.sum())\n",
    "    \n",
    "    p_values_strat.append(ttest_strat(df_A, df_B))\n",
    "    p_values.append(sps.ttest_ind(df_A[\"payments\"], df_B[\"payments\"]).pvalue)\n",
    "    \n",
    "    "
   ]
  },
  {
   "cell_type": "markdown",
   "id": "7f7d6386-6c21-4212-a281-6df7866bcea9",
   "metadata": {},
   "source": [
    "#### Оценка корректности"
   ]
  },
  {
   "cell_type": "code",
   "execution_count": null,
   "id": "bf28a3d8-ad61-45cf-ac93-7356dcdbe5df",
   "metadata": {},
   "outputs": [],
   "source": [
    "get_qq_plot(p_values)"
   ]
  },
  {
   "cell_type": "code",
   "execution_count": null,
   "id": "5419b897-27f6-4fc9-8379-8e92bcc906c3",
   "metadata": {},
   "outputs": [],
   "source": [
    "get_qq_plot(p_values_strat)"
   ]
  },
  {
   "cell_type": "markdown",
   "id": "3fd39820-df2f-473a-9602-6cf2015c402a",
   "metadata": {},
   "source": [
    "##### Есть различия в выборках"
   ]
  },
  {
   "cell_type": "code",
   "execution_count": null,
   "id": "38b1b82d-2e80-4e4a-a217-bf2e53dc11bd",
   "metadata": {},
   "outputs": [],
   "source": [
    "%%time\n",
    "n_exp = 1000\n",
    "p_values = []\n",
    "p_values_strat = []\n",
    "size = 1000\n",
    "for _ in range(n_exp):\n",
    "    df_A = pd.DataFrame()\n",
    "    df_A[\"user\"] = [f\"A_{x:5}\" for x in range(size)]\n",
    "    df_A[\"city\"] = pd.Series([1]*int(size*0.3) + [0]*int(size*0.7)).map({0: \"Moscow\", 1: \"Tula\"})\n",
    "    mask_Moscow = df_A[\"city\"] == \"Moscow\"\n",
    "    df_A.loc[mask_Moscow, \"payments\"] = sps.norm.rvs(loc=100, scale=20, size=mask_Moscow.sum())\n",
    "    mask_Tula = df_A[\"city\"] == \"Tula\"\n",
    "    df_A.loc[mask_Tula, \"payments\"] = sps.norm.rvs(loc=80, scale=10, size=mask_Tula.sum()) \n",
    "    \n",
    "    df_B = pd.DataFrame()\n",
    "    df_B[\"user\"] = [f\"B_{x:5}\" for x in range(size)]\n",
    "    df_B[\"city\"] = pd.Series([1]*int(size*0.3) + [0]*int(size*0.7)).map({0: \"Moscow\", 1: \"Tula\"})\n",
    "#pd.Series(sps.bernoulli.rvs(p=0.3, size=size)).map({0: \"Moscow\", 1: \"Tula\"})\n",
    "    mask_Moscow = df_B[\"city\"] == \"Moscow\"\n",
    "    df_B.loc[mask_Moscow, \"payments\"] = sps.norm.rvs(loc=103, scale=20, size=mask_Moscow.sum())\n",
    "    mask_Tula = df_B[\"city\"] == \"Tula\"\n",
    "    df_B.loc[mask_Tula, \"payments\"] = sps.norm.rvs(loc=83, scale=10, size=mask_Tula.sum())\n",
    "    \n",
    "    p_values_strat.append(ttest_strat(df_A, df_B))\n",
    "    p_values.append(sps.ttest_ind(df_A[\"payments\"], df_B[\"payments\"]).pvalue)\n",
    "    \n",
    "    "
   ]
  },
  {
   "cell_type": "markdown",
   "id": "a63bc783-4e50-403e-8567-f50c232db561",
   "metadata": {},
   "source": [
    "##### Оценка мощности"
   ]
  },
  {
   "cell_type": "code",
   "execution_count": null,
   "id": "f4faac1b-ba22-431d-b29e-046f7f85d6ab",
   "metadata": {},
   "outputs": [],
   "source": [
    "get_power(p_values)"
   ]
  },
  {
   "cell_type": "code",
   "execution_count": null,
   "id": "c086c2ed-e2e5-4a1b-83c8-40a789493b72",
   "metadata": {},
   "outputs": [],
   "source": [
    "get_power(p_values_strat)"
   ]
  },
  {
   "cell_type": "markdown",
   "id": "b2066607-9200-4ecc-8210-3dbc7245f84d",
   "metadata": {},
   "source": [
    "# CUPED"
   ]
  },
  {
   "cell_type": "markdown",
   "id": "d7f07b1f-1dbf-4657-ad72-20d6881590bd",
   "metadata": {},
   "source": [
    "Можно зафиксировать значение на начальных данных, тогда результаты будут корректнее. Работает лучше, если есть корреляция, иначе почти такой же результат."
   ]
  },
  {
   "cell_type": "markdown",
   "id": "318c2b8c-566d-45a5-bfad-675cc46ec19a",
   "metadata": {},
   "source": [
    "##### Нет различий в выборках"
   ]
  },
  {
   "cell_type": "code",
   "execution_count": null,
   "id": "9f2b4b32-4995-4a63-a76d-290d5d1f417c",
   "metadata": {},
   "outputs": [],
   "source": [
    "%%time\n",
    "n_exp = 1000\n",
    "p_values = []\n",
    "p_values_cuped = []\n",
    "size = 1000\n",
    "\n",
    "# Pre_experiment\n",
    "pre_exp = sps.norm.rvs(loc=100, scale=20, size=size)\n",
    "for _ in range(n_exp):\n",
    "    \n",
    "    \n",
    "    \n",
    "    df_A = pd.DataFrame()\n",
    "    df_A[\"user\"] = [f\"A_{x:5}\" for x in range(size)]\n",
    "    df_A[\"pre_exp\"] = pre_exp\n",
    "    df_A[\"payments\"] = sps.expon.rvs(loc=100, scale=100, size=size)\n",
    "    \n",
    "    df_B = pd.DataFrame()\n",
    "    df_B[\"pre_exp\"] = pre_exp\n",
    "    df_B[\"user\"] = [f\"B_{x:5}\" for x in range(size)]\n",
    "    df_B[\"payments\"] = sps.expon.rvs(loc=100, scale=100, size=size)\n",
    "    \n",
    "    p_values.append(sps.ttest_ind(df_A[\"payments\"], df_B[\"payments\"]).pvalue)\n",
    "    \n",
    "    x_a = df_A[\"pre_exp\"]\n",
    "    x_b = df_B[\"pre_exp\"]\n",
    "    y_a = df_A[\"payments\"]\n",
    "    y_b = df_B[\"payments\"]\n",
    "    theta = np.cov(x_a, y_a)[0,1] / np.std(x_a)**2\n",
    "    \n",
    "    df_A[\"payments_cuped\"] = df_A[\"payments\"] - theta * df_A[\"pre_exp\"]\n",
    "    df_B[\"payments_cuped\"] = df_B[\"payments\"] - theta * df_B[\"pre_exp\"]\n",
    "    \n",
    "    p_values_cuped.append(sps.ttest_ind(df_A[\"payments_cuped\"], df_B[\"payments_cuped\"]).pvalue)\n",
    "    \n",
    "    "
   ]
  },
  {
   "cell_type": "markdown",
   "id": "752cf654-fe08-4338-92b6-ae075e85e38e",
   "metadata": {},
   "source": [
    "##### Оценка корректности"
   ]
  },
  {
   "cell_type": "code",
   "execution_count": null,
   "id": "55580776-dbf3-4827-b85c-946d63fd2e45",
   "metadata": {},
   "outputs": [],
   "source": [
    "get_qq_plot(p_values_cuped)"
   ]
  },
  {
   "cell_type": "markdown",
   "id": "3f03512a-e8fa-4809-8045-61746b465918",
   "metadata": {},
   "source": [
    "##### Есть независимые изменения в выборках"
   ]
  },
  {
   "cell_type": "code",
   "execution_count": null,
   "id": "a0529702-51e0-4eaf-9471-7b3d7e58b0e9",
   "metadata": {},
   "outputs": [],
   "source": [
    "%%time\n",
    "n_exp = 1000\n",
    "p_values = []\n",
    "p_values_cuped = []\n",
    "size = 1000\n",
    "\n",
    "# Pre_experiment\n",
    "pre_exp = sps.norm.rvs(loc=100, scale=20, size=size)\n",
    "for _ in range(n_exp):\n",
    "    \n",
    "    \n",
    "    \n",
    "    df_A = pd.DataFrame()\n",
    "    df_A[\"user\"] = [f\"A_{x:5}\" for x in range(size)]\n",
    "    df_A[\"pre_exp\"] = pre_exp\n",
    "    df_A[\"payments\"] = sps.expon.rvs(loc=100, scale=100, size=size)\n",
    "    \n",
    "    df_B = pd.DataFrame()\n",
    "    df_B[\"pre_exp\"] = pre_exp\n",
    "    df_B[\"user\"] = [f\"B_{x:5}\" for x in range(size)]\n",
    "    df_B[\"payments\"] = sps.expon.rvs(loc=110, scale=100, size=size)\n",
    "    \n",
    "    p_values.append(sps.ttest_ind(df_A[\"payments\"], df_B[\"payments\"]).pvalue)\n",
    "    \n",
    "    x_a = df_A[\"pre_exp\"]\n",
    "    x_b = df_B[\"pre_exp\"]\n",
    "    y_a = df_A[\"payments\"]\n",
    "    y_b = df_B[\"payments\"]\n",
    "    theta = np.cov(x_a, y_a)[0,1] / np.std(x_a)**2\n",
    "    \n",
    "    df_A[\"payments_cuped\"] = df_A[\"payments\"] - theta * df_A[\"pre_exp\"]\n",
    "    df_B[\"payments_cuped\"] = df_B[\"payments\"] - theta * df_B[\"pre_exp\"]\n",
    "    \n",
    "    p_values_cuped.append(sps.ttest_ind(df_A[\"payments_cuped\"], df_B[\"payments_cuped\"]).pvalue)\n",
    "    \n",
    "    "
   ]
  },
  {
   "cell_type": "code",
   "execution_count": null,
   "id": "6a16b1f6-4704-4e2f-b026-0ece9df9f8ee",
   "metadata": {},
   "outputs": [],
   "source": [
    "get_power(p_values)"
   ]
  },
  {
   "cell_type": "code",
   "execution_count": null,
   "id": "11854cd8-9f01-45fc-a257-4d1468317a58",
   "metadata": {},
   "outputs": [],
   "source": [
    "get_power(p_values_cuped)"
   ]
  },
  {
   "cell_type": "markdown",
   "id": "720037c3-fe52-4eab-aec4-4ca0a4e22a1a",
   "metadata": {},
   "source": [
    "##### Есть коррелирующие изменения в выборках"
   ]
  },
  {
   "cell_type": "code",
   "execution_count": null,
   "id": "89ea762e-4df7-4507-9b89-474a383cb4ea",
   "metadata": {},
   "outputs": [],
   "source": [
    "%%time\n",
    "n_exp = 1000\n",
    "p_values = []\n",
    "p_values_cuped = []\n",
    "size = 1000\n",
    "\n",
    "# Pre_experiment\n",
    "pre_exp = sps.norm.rvs(loc=100, scale=20, size=size)\n",
    "for _ in range(n_exp):\n",
    "    \n",
    "    \n",
    "    \n",
    "    df_A = pd.DataFrame()\n",
    "    df_A[\"user\"] = [f\"A_{x:5}\" for x in range(size)]\n",
    "    df_A[\"pre_exp\"] = pre_exp\n",
    "    df_A[\"payments\"] =  sps.norm.rvs(loc=1, scale=0.1, size=size) * df_A[\"pre_exp\"]\n",
    "    \n",
    "    df_B = pd.DataFrame()\n",
    "    df_B[\"pre_exp\"] = pre_exp\n",
    "    df_B[\"user\"] = [f\"B_{x:5}\" for x in range(size)]\n",
    "    df_B[\"payments\"] = sps.norm.rvs(loc=1.01, scale=0.1, size=size) * df_B[\"pre_exp\"]\n",
    "    \n",
    "    p_values.append(sps.ttest_ind(df_A[\"payments\"], df_B[\"payments\"]).pvalue)\n",
    "    \n",
    "    x_a = df_A[\"pre_exp\"]\n",
    "    x_b = df_B[\"pre_exp\"]\n",
    "    y_a = df_A[\"payments\"]\n",
    "    y_b = df_B[\"payments\"]\n",
    "    theta = np.cov(x_a, y_a)[0,1] / np.std(x_a)**2\n",
    "    \n",
    "    df_A[\"payments_cuped\"] = df_A[\"payments\"] - theta * df_A[\"pre_exp\"]\n",
    "    df_B[\"payments_cuped\"] = df_B[\"payments\"] - theta * df_B[\"pre_exp\"]\n",
    "    \n",
    "    p_values_cuped.append(sps.ttest_ind(df_A[\"payments_cuped\"], df_B[\"payments_cuped\"]).pvalue)\n",
    "    \n",
    "    "
   ]
  },
  {
   "cell_type": "code",
   "execution_count": null,
   "id": "9621acd7-18d2-47b3-a329-be229b391c6b",
   "metadata": {},
   "outputs": [],
   "source": [
    "get_power(p_values)"
   ]
  },
  {
   "cell_type": "code",
   "execution_count": null,
   "id": "66606c79-523c-4039-b62a-71f3cf3f5490",
   "metadata": {},
   "outputs": [],
   "source": [
    "get_power(p_values_cuped)"
   ]
  },
  {
   "cell_type": "markdown",
   "id": "938f8b43-4bd7-4f75-95f0-9799ac98a3bd",
   "metadata": {},
   "source": [
    "# Выбросы"
   ]
  },
  {
   "cell_type": "code",
   "execution_count": null,
   "id": "d3c70ff6-4291-4e89-9961-45fa4741a58c",
   "metadata": {},
   "outputs": [],
   "source": [
    "n_exp = 1000\n",
    "p_values = []\n",
    "p_values_log = []\n",
    "size = 1000\n",
    "\n",
    "for _ in range(n_exp):\n",
    "    x_a = np.append(sps.expon.rvs(loc=100, scale=100, size=size), np.array([1000, 2000]))\n",
    "    x_b = np.append(sps.expon.rvs(loc=100, scale=100, size=size), np.array([1000, 2000]))\n",
    "    x_a_log = np.log(x_a)\n",
    "    x_b_log = np.log(x_b)\n",
    "    \n",
    "    p_values.append(sps.ttest_ind(x_a, x_b).pvalue)\n",
    "    p_values_log.append(sps.ttest_ind(x_a_log, x_b_log).pvalue)"
   ]
  },
  {
   "cell_type": "code",
   "execution_count": null,
   "id": "7d62c5b0-acdf-44f4-b570-560b9eb1c57b",
   "metadata": {},
   "outputs": [],
   "source": [
    "get_qq_plot(p_values)"
   ]
  },
  {
   "cell_type": "code",
   "execution_count": null,
   "id": "7d8be526-ae77-4431-98f8-5b739ec4ba37",
   "metadata": {},
   "outputs": [],
   "source": [
    "get_qq_plot(p_values_log)"
   ]
  },
  {
   "cell_type": "markdown",
   "id": "657d2f6c-2b63-4b31-b06a-bfd6d4bcc94e",
   "metadata": {},
   "source": [
    "##### Есть изменения в выборках"
   ]
  },
  {
   "cell_type": "code",
   "execution_count": null,
   "id": "39d65461-12db-4649-b6fd-da310b75fcb0",
   "metadata": {},
   "outputs": [],
   "source": [
    "n_exp = 1000\n",
    "p_values = []\n",
    "p_values_log = []\n",
    "size = 1000\n",
    "\n",
    "for _ in range(n_exp):\n",
    "    x_a = np.append(sps.expon.rvs(loc=100, scale=100, size=size), np.array([1000, 2000]))\n",
    "    x_b = np.append(sps.expon.rvs(loc=100, scale=110, size=size), np.array([1000, 2000]))\n",
    "    x_a_log = np.log(x_a)\n",
    "    x_b_log = np.log(x_b)\n",
    "    \n",
    "    p_values.append(sps.ttest_ind(x_a, x_b).pvalue)\n",
    "    p_values_log.append(sps.ttest_ind(x_a_log, x_b_log).pvalue)"
   ]
  },
  {
   "cell_type": "code",
   "execution_count": null,
   "id": "8ca29671-f823-44b9-9c41-b82d52275a24",
   "metadata": {},
   "outputs": [],
   "source": [
    "get_power(p_values)"
   ]
  },
  {
   "cell_type": "code",
   "execution_count": null,
   "id": "db6aaf10-53e2-47fb-b199-da93a29dbdb6",
   "metadata": {},
   "outputs": [],
   "source": [
    "get_power(p_values_log)"
   ]
  },
  {
   "cell_type": "markdown",
   "id": "dc9f0418-42f4-4118-aa70-785e0bb97d4a",
   "metadata": {},
   "source": [
    "### Особый пример для логарифмирования"
   ]
  },
  {
   "cell_type": "code",
   "execution_count": null,
   "id": "0d676b5b-36da-4871-97d4-263f7542d722",
   "metadata": {},
   "outputs": [],
   "source": [
    "# Изначальные соотношения\n",
    "sample_control = [3] * 30 + [10] * 30 + [200] * 10 + [1200]\n",
    "sample_test    = [8] * 30 + [20] * 30 + [100] * 10 + [1000]\n",
    "# Добавим немного случайности, чтобы сохранить соотношения\n",
    "sample_control = np.array(sample_control) + sps.norm().rvs(len(sample_control))\n",
    "sample_test    = np.array(sample_test) + sps.norm().rvs(len(sample_test))\n",
    " "
   ]
  },
  {
   "cell_type": "code",
   "execution_count": null,
   "id": "6b356e0e-b298-44dc-9e85-06cb0df71b11",
   "metadata": {},
   "outputs": [],
   "source": [
    "# Средние\n",
    "sample_control.mean(), sample_test.mean()\n",
    "# Output: (50.607336258084835, 39.952182594778115)"
   ]
  },
  {
   "cell_type": "code",
   "execution_count": null,
   "id": "e3700330-93a0-4f6a-9e86-a18bcfd24608",
   "metadata": {},
   "outputs": [],
   "source": [
    "np.log(sample_control + 1).mean(), np.log(sample_test + 1).mean()\n",
    "# Output: (2.448935051567075, 2.953888940122415)\n",
    " "
   ]
  },
  {
   "cell_type": "code",
   "execution_count": null,
   "id": "30271f4a-1d8f-4988-b387-491f40256ad7",
   "metadata": {},
   "outputs": [],
   "source": [
    "# Проверка гипотез\n",
    "sps.ttest_ind(sample_control, sample_test, alternative='less', equal_var=False)\n",
    "# Output: Ttest_indResult(statistic=0.45984895048111585, pvalue=0.676809082675744)"
   ]
  },
  {
   "cell_type": "code",
   "execution_count": null,
   "id": "f90b9cdf-c0e2-48f7-b552-f3a2655e00ba",
   "metadata": {},
   "outputs": [],
   "source": [
    "sps.ttest_ind(np.log(sample_control + 1), np.log(sample_test + 1), alternative='less', equal_var=False)\n",
    "# Output: Ttest_indResult(statistic=-2.5261569510816813, pvalue=0.006404244890592501)"
   ]
  },
  {
   "cell_type": "code",
   "execution_count": null,
   "id": "35886d0e-17aa-4bf5-b2e3-878f1713fcc4",
   "metadata": {},
   "outputs": [],
   "source": []
  }
 ],
 "metadata": {
  "kernelspec": {
   "display_name": "Python 3 (ipykernel)",
   "language": "python",
   "name": "python3"
  },
  "language_info": {
   "codemirror_mode": {
    "name": "ipython",
    "version": 3
   },
   "file_extension": ".py",
   "mimetype": "text/x-python",
   "name": "python",
   "nbconvert_exporter": "python",
   "pygments_lexer": "ipython3",
   "version": "3.9.16"
  }
 },
 "nbformat": 4,
 "nbformat_minor": 5
}
