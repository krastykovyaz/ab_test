{
  "nbformat": 4,
  "nbformat_minor": 0,
  "metadata": {
    "colab": {
      "provenance": []
    },
    "kernelspec": {
      "name": "python3",
      "display_name": "Python 3"
    },
    "language_info": {
      "name": "python"
    }
  },
  "cells": [
    {
      "cell_type": "markdown",
      "source": [
        "##Домашние задание №4\n",
        "###Выполнила: Косарева Екатерина (DS-22)\n",
        "\n",
        "**Описание эксперимента:**\n",
        "Есть мобильное приложение. В этом приложении у пользователей есть возможность покупать игровые предметы за реальные деньги. Чтобы стимулировать пользователей их покупать, приложение периодически предлагает пользователям товары - появляется окошко с рекомендацией купить товар. Отдел машинного обучения предложил улучшение для текущего алгоритма выбора рекомендации. Для проверки улучшений алгоритма был проведен A/B тест. Лог его проведения предоставлен в прикрепленном файле.\n",
        "\n",
        "**Метрика:** средний доход от пользователя за 1 неделю после первого показа ему рекомендации на 10% (после начала A/B теста время первого показа ищется снова)\n",
        "\n",
        "**Важная информация:**\n",
        "Эксперимент начинается 2023-05-01. Данные есть до 2023-06-01 (но можно завершить раньше, если это позволит оценка длительности)\n",
        "Вам сказали, что его длительность должна составить 1 месяц.\n",
        "Все покупки, которые вызваны не влиянием рекомендаций, в этом логе не учитываются\n",
        "\n",
        "**Описание данных**:\n",
        "\n",
        "    id_product -  идентификатор продукта, который был рекомендован\n",
        "    is_pay - купил ли пользователь товар\n",
        "    sum_payment - размер платежа (0, если не купил)\n",
        "    city - город, в котором находится пользователь\n",
        "    id_user - пользователь\n",
        "    timestamp - timestamp события\n",
        "    date - дата события\n",
        "\n",
        "**Задачи, которые необходимо решить:**\n",
        "\n",
        "1. Оценить длительность теста на момент его начала. Сравнить с предложенной. Для оценки необходимо использовать данные с пред экспериментального периода. Посмотреть, есть ли выбросы в данных.\n",
        "\n",
        "2. Построить методику расчета целевой метрики. Рассчитать целевую метрику на день окончания теста (рассчитанной в п1) для группы A и B, рассчитать эффект, p_value. Посмотреть, есть ли выбросы в данных.\n",
        "\n",
        "3. Рассчитать метрики из п2 по дням и построить их графики.\n",
        "Принять решение о результате теста - обосновать.\n",
        "\n",
        "**Дополнительно:**\n",
        "При подсчете метрик обработать выбросы в данных - описать почему их можно удалить из теста, если они удаляются. Пожалуйста, не заглядывайте в будущее по данным, если рассчитанная длительность меньше предоставленных данны"
      ],
      "metadata": {
        "id": "FIlFuuiMzQ1v"
      }
    },
    {
      "cell_type": "code",
      "execution_count": 1,
      "metadata": {
        "id": "QSql5NRczF_v"
      },
      "outputs": [],
      "source": [
        "import pandas as pd\n",
        "import numpy as np\n",
        "from datetime import datetime\n",
        "\n",
        "import warnings\n",
        "warnings.simplefilter(\"ignore\")"
      ]
    },
    {
      "cell_type": "markdown",
      "source": [
        "##|Анализ данных"
      ],
      "metadata": {
        "id": "tr8LWgMz5nmV"
      }
    },
    {
      "cell_type": "code",
      "source": [
        "data = pd.read_csv(\"/content/drive/MyDrive/MADE/AB/axNSsVJtVBJbNUgD.gzip\", compression='gzip')\n"
      ],
      "metadata": {
        "id": "sgJnyQJQzRnu"
      },
      "execution_count": 2,
      "outputs": []
    },
    {
      "cell_type": "code",
      "source": [
        "data.head()"
      ],
      "metadata": {
        "colab": {
          "base_uri": "https://localhost:8080/",
          "height": 206
        },
        "id": "O2hLfTxZzvbo",
        "outputId": "ceb2ccde-d134-4da3-98d7-24873a389b39"
      },
      "execution_count": null,
      "outputs": [
        {
          "output_type": "execute_result",
          "data": {
            "text/plain": [
              "    timestamp    id_user  sum_payment group             city  id_product  \\\n",
              "0  1680330573  user_9903           27   NaN  Санкт-Петербург         4.0   \n",
              "1  1680332652  user_6732            0   NaN           Рязань         1.0   \n",
              "2  1680378039  user_4199            0   NaN           Москва         3.0   \n",
              "3  1680337580  user_3606           12   NaN  Санкт-Петербург         7.0   \n",
              "4  1680334389  user_9519            0   NaN  Санкт-Петербург        14.0   \n",
              "\n",
              "   is_pay        date  \n",
              "0       1  2023-04-01  \n",
              "1       0  2023-04-01  \n",
              "2       0  2023-04-01  \n",
              "3       1  2023-04-01  \n",
              "4       0  2023-04-01  "
            ],
            "text/html": [
              "\n",
              "  <div id=\"df-9e623faf-5441-460a-9316-8edbab913ea8\">\n",
              "    <div class=\"colab-df-container\">\n",
              "      <div>\n",
              "<style scoped>\n",
              "    .dataframe tbody tr th:only-of-type {\n",
              "        vertical-align: middle;\n",
              "    }\n",
              "\n",
              "    .dataframe tbody tr th {\n",
              "        vertical-align: top;\n",
              "    }\n",
              "\n",
              "    .dataframe thead th {\n",
              "        text-align: right;\n",
              "    }\n",
              "</style>\n",
              "<table border=\"1\" class=\"dataframe\">\n",
              "  <thead>\n",
              "    <tr style=\"text-align: right;\">\n",
              "      <th></th>\n",
              "      <th>timestamp</th>\n",
              "      <th>id_user</th>\n",
              "      <th>sum_payment</th>\n",
              "      <th>group</th>\n",
              "      <th>city</th>\n",
              "      <th>id_product</th>\n",
              "      <th>is_pay</th>\n",
              "      <th>date</th>\n",
              "    </tr>\n",
              "  </thead>\n",
              "  <tbody>\n",
              "    <tr>\n",
              "      <th>0</th>\n",
              "      <td>1680330573</td>\n",
              "      <td>user_9903</td>\n",
              "      <td>27</td>\n",
              "      <td>NaN</td>\n",
              "      <td>Санкт-Петербург</td>\n",
              "      <td>4.0</td>\n",
              "      <td>1</td>\n",
              "      <td>2023-04-01</td>\n",
              "    </tr>\n",
              "    <tr>\n",
              "      <th>1</th>\n",
              "      <td>1680332652</td>\n",
              "      <td>user_6732</td>\n",
              "      <td>0</td>\n",
              "      <td>NaN</td>\n",
              "      <td>Рязань</td>\n",
              "      <td>1.0</td>\n",
              "      <td>0</td>\n",
              "      <td>2023-04-01</td>\n",
              "    </tr>\n",
              "    <tr>\n",
              "      <th>2</th>\n",
              "      <td>1680378039</td>\n",
              "      <td>user_4199</td>\n",
              "      <td>0</td>\n",
              "      <td>NaN</td>\n",
              "      <td>Москва</td>\n",
              "      <td>3.0</td>\n",
              "      <td>0</td>\n",
              "      <td>2023-04-01</td>\n",
              "    </tr>\n",
              "    <tr>\n",
              "      <th>3</th>\n",
              "      <td>1680337580</td>\n",
              "      <td>user_3606</td>\n",
              "      <td>12</td>\n",
              "      <td>NaN</td>\n",
              "      <td>Санкт-Петербург</td>\n",
              "      <td>7.0</td>\n",
              "      <td>1</td>\n",
              "      <td>2023-04-01</td>\n",
              "    </tr>\n",
              "    <tr>\n",
              "      <th>4</th>\n",
              "      <td>1680334389</td>\n",
              "      <td>user_9519</td>\n",
              "      <td>0</td>\n",
              "      <td>NaN</td>\n",
              "      <td>Санкт-Петербург</td>\n",
              "      <td>14.0</td>\n",
              "      <td>0</td>\n",
              "      <td>2023-04-01</td>\n",
              "    </tr>\n",
              "  </tbody>\n",
              "</table>\n",
              "</div>\n",
              "      <button class=\"colab-df-convert\" onclick=\"convertToInteractive('df-9e623faf-5441-460a-9316-8edbab913ea8')\"\n",
              "              title=\"Convert this dataframe to an interactive table.\"\n",
              "              style=\"display:none;\">\n",
              "        \n",
              "  <svg xmlns=\"http://www.w3.org/2000/svg\" height=\"24px\"viewBox=\"0 0 24 24\"\n",
              "       width=\"24px\">\n",
              "    <path d=\"M0 0h24v24H0V0z\" fill=\"none\"/>\n",
              "    <path d=\"M18.56 5.44l.94 2.06.94-2.06 2.06-.94-2.06-.94-.94-2.06-.94 2.06-2.06.94zm-11 1L8.5 8.5l.94-2.06 2.06-.94-2.06-.94L8.5 2.5l-.94 2.06-2.06.94zm10 10l.94 2.06.94-2.06 2.06-.94-2.06-.94-.94-2.06-.94 2.06-2.06.94z\"/><path d=\"M17.41 7.96l-1.37-1.37c-.4-.4-.92-.59-1.43-.59-.52 0-1.04.2-1.43.59L10.3 9.45l-7.72 7.72c-.78.78-.78 2.05 0 2.83L4 21.41c.39.39.9.59 1.41.59.51 0 1.02-.2 1.41-.59l7.78-7.78 2.81-2.81c.8-.78.8-2.07 0-2.86zM5.41 20L4 18.59l7.72-7.72 1.47 1.35L5.41 20z\"/>\n",
              "  </svg>\n",
              "      </button>\n",
              "      \n",
              "  <style>\n",
              "    .colab-df-container {\n",
              "      display:flex;\n",
              "      flex-wrap:wrap;\n",
              "      gap: 12px;\n",
              "    }\n",
              "\n",
              "    .colab-df-convert {\n",
              "      background-color: #E8F0FE;\n",
              "      border: none;\n",
              "      border-radius: 50%;\n",
              "      cursor: pointer;\n",
              "      display: none;\n",
              "      fill: #1967D2;\n",
              "      height: 32px;\n",
              "      padding: 0 0 0 0;\n",
              "      width: 32px;\n",
              "    }\n",
              "\n",
              "    .colab-df-convert:hover {\n",
              "      background-color: #E2EBFA;\n",
              "      box-shadow: 0px 1px 2px rgba(60, 64, 67, 0.3), 0px 1px 3px 1px rgba(60, 64, 67, 0.15);\n",
              "      fill: #174EA6;\n",
              "    }\n",
              "\n",
              "    [theme=dark] .colab-df-convert {\n",
              "      background-color: #3B4455;\n",
              "      fill: #D2E3FC;\n",
              "    }\n",
              "\n",
              "    [theme=dark] .colab-df-convert:hover {\n",
              "      background-color: #434B5C;\n",
              "      box-shadow: 0px 1px 3px 1px rgba(0, 0, 0, 0.15);\n",
              "      filter: drop-shadow(0px 1px 2px rgba(0, 0, 0, 0.3));\n",
              "      fill: #FFFFFF;\n",
              "    }\n",
              "  </style>\n",
              "\n",
              "      <script>\n",
              "        const buttonEl =\n",
              "          document.querySelector('#df-9e623faf-5441-460a-9316-8edbab913ea8 button.colab-df-convert');\n",
              "        buttonEl.style.display =\n",
              "          google.colab.kernel.accessAllowed ? 'block' : 'none';\n",
              "\n",
              "        async function convertToInteractive(key) {\n",
              "          const element = document.querySelector('#df-9e623faf-5441-460a-9316-8edbab913ea8');\n",
              "          const dataTable =\n",
              "            await google.colab.kernel.invokeFunction('convertToInteractive',\n",
              "                                                     [key], {});\n",
              "          if (!dataTable) return;\n",
              "\n",
              "          const docLinkHtml = 'Like what you see? Visit the ' +\n",
              "            '<a target=\"_blank\" href=https://colab.research.google.com/notebooks/data_table.ipynb>data table notebook</a>'\n",
              "            + ' to learn more about interactive tables.';\n",
              "          element.innerHTML = '';\n",
              "          dataTable['output_type'] = 'display_data';\n",
              "          await google.colab.output.renderOutput(dataTable, element);\n",
              "          const docLink = document.createElement('div');\n",
              "          docLink.innerHTML = docLinkHtml;\n",
              "          element.appendChild(docLink);\n",
              "        }\n",
              "      </script>\n",
              "    </div>\n",
              "  </div>\n",
              "  "
            ]
          },
          "metadata": {},
          "execution_count": 37
        }
      ]
    },
    {
      "cell_type": "code",
      "source": [
        "print(\"Control and test goups sizes:\", data[data.group==\"A\"].shape, data[data.group==\"B\"].shape)"
      ],
      "metadata": {
        "colab": {
          "base_uri": "https://localhost:8080/"
        },
        "id": "C8DpoWY9u5aS",
        "outputId": "4aa2ebae-0085-48d4-9204-92df35ec7c72"
      },
      "execution_count": null,
      "outputs": [
        {
          "output_type": "stream",
          "name": "stdout",
          "text": [
            "Control and test goups sizes: (15389, 8) (15257, 8)\n"
          ]
        }
      ]
    },
    {
      "cell_type": "code",
      "source": [
        "data.info()"
      ],
      "metadata": {
        "colab": {
          "base_uri": "https://localhost:8080/"
        },
        "id": "DxFdYSDE2wFA",
        "outputId": "cff9b37a-1932-41b2-ffe9-ac085f38b3fc"
      },
      "execution_count": null,
      "outputs": [
        {
          "output_type": "stream",
          "name": "stdout",
          "text": [
            "<class 'pandas.core.frame.DataFrame'>\n",
            "RangeIndex: 56405 entries, 0 to 56404\n",
            "Data columns (total 8 columns):\n",
            " #   Column       Non-Null Count  Dtype  \n",
            "---  ------       --------------  -----  \n",
            " 0   timestamp    56405 non-null  int64  \n",
            " 1   id_user      56405 non-null  object \n",
            " 2   sum_payment  56405 non-null  int64  \n",
            " 3   group        30646 non-null  object \n",
            " 4   city         56405 non-null  object \n",
            " 5   id_product   56402 non-null  float64\n",
            " 6   is_pay       56405 non-null  int64  \n",
            " 7   date         56405 non-null  object \n",
            "dtypes: float64(1), int64(3), object(4)\n",
            "memory usage: 3.4+ MB\n"
          ]
        }
      ]
    },
    {
      "cell_type": "code",
      "source": [
        "data.describe()"
      ],
      "metadata": {
        "colab": {
          "base_uri": "https://localhost:8080/",
          "height": 300
        },
        "id": "-mSNsUVc4Loc",
        "outputId": "3251218f-b750-485a-db0e-df0c0303b921"
      },
      "execution_count": null,
      "outputs": [
        {
          "output_type": "execute_result",
          "data": {
            "text/plain": [
              "          timestamp   sum_payment    id_product        is_pay\n",
              "count  5.640500e+04  56405.000000  56402.000000  56405.000000\n",
              "mean   1.683684e+09      5.955022     10.477643      0.279833\n",
              "std    1.450366e+06     12.986465      6.328490      0.448921\n",
              "min    1.680310e+09      0.000000      0.000000      0.000000\n",
              "25%    1.682478e+09      0.000000      5.000000      0.000000\n",
              "50%    1.683886e+09      0.000000     10.000000      0.000000\n",
              "75%    1.685130e+09     12.000000     16.000000      1.000000\n",
              "max    1.685567e+09   1000.000000     21.000000      1.000000"
            ],
            "text/html": [
              "\n",
              "  <div id=\"df-bd2179af-2c0a-4d92-9584-42c1a669a635\">\n",
              "    <div class=\"colab-df-container\">\n",
              "      <div>\n",
              "<style scoped>\n",
              "    .dataframe tbody tr th:only-of-type {\n",
              "        vertical-align: middle;\n",
              "    }\n",
              "\n",
              "    .dataframe tbody tr th {\n",
              "        vertical-align: top;\n",
              "    }\n",
              "\n",
              "    .dataframe thead th {\n",
              "        text-align: right;\n",
              "    }\n",
              "</style>\n",
              "<table border=\"1\" class=\"dataframe\">\n",
              "  <thead>\n",
              "    <tr style=\"text-align: right;\">\n",
              "      <th></th>\n",
              "      <th>timestamp</th>\n",
              "      <th>sum_payment</th>\n",
              "      <th>id_product</th>\n",
              "      <th>is_pay</th>\n",
              "    </tr>\n",
              "  </thead>\n",
              "  <tbody>\n",
              "    <tr>\n",
              "      <th>count</th>\n",
              "      <td>5.640500e+04</td>\n",
              "      <td>56405.000000</td>\n",
              "      <td>56402.000000</td>\n",
              "      <td>56405.000000</td>\n",
              "    </tr>\n",
              "    <tr>\n",
              "      <th>mean</th>\n",
              "      <td>1.683684e+09</td>\n",
              "      <td>5.955022</td>\n",
              "      <td>10.477643</td>\n",
              "      <td>0.279833</td>\n",
              "    </tr>\n",
              "    <tr>\n",
              "      <th>std</th>\n",
              "      <td>1.450366e+06</td>\n",
              "      <td>12.986465</td>\n",
              "      <td>6.328490</td>\n",
              "      <td>0.448921</td>\n",
              "    </tr>\n",
              "    <tr>\n",
              "      <th>min</th>\n",
              "      <td>1.680310e+09</td>\n",
              "      <td>0.000000</td>\n",
              "      <td>0.000000</td>\n",
              "      <td>0.000000</td>\n",
              "    </tr>\n",
              "    <tr>\n",
              "      <th>25%</th>\n",
              "      <td>1.682478e+09</td>\n",
              "      <td>0.000000</td>\n",
              "      <td>5.000000</td>\n",
              "      <td>0.000000</td>\n",
              "    </tr>\n",
              "    <tr>\n",
              "      <th>50%</th>\n",
              "      <td>1.683886e+09</td>\n",
              "      <td>0.000000</td>\n",
              "      <td>10.000000</td>\n",
              "      <td>0.000000</td>\n",
              "    </tr>\n",
              "    <tr>\n",
              "      <th>75%</th>\n",
              "      <td>1.685130e+09</td>\n",
              "      <td>12.000000</td>\n",
              "      <td>16.000000</td>\n",
              "      <td>1.000000</td>\n",
              "    </tr>\n",
              "    <tr>\n",
              "      <th>max</th>\n",
              "      <td>1.685567e+09</td>\n",
              "      <td>1000.000000</td>\n",
              "      <td>21.000000</td>\n",
              "      <td>1.000000</td>\n",
              "    </tr>\n",
              "  </tbody>\n",
              "</table>\n",
              "</div>\n",
              "      <button class=\"colab-df-convert\" onclick=\"convertToInteractive('df-bd2179af-2c0a-4d92-9584-42c1a669a635')\"\n",
              "              title=\"Convert this dataframe to an interactive table.\"\n",
              "              style=\"display:none;\">\n",
              "        \n",
              "  <svg xmlns=\"http://www.w3.org/2000/svg\" height=\"24px\"viewBox=\"0 0 24 24\"\n",
              "       width=\"24px\">\n",
              "    <path d=\"M0 0h24v24H0V0z\" fill=\"none\"/>\n",
              "    <path d=\"M18.56 5.44l.94 2.06.94-2.06 2.06-.94-2.06-.94-.94-2.06-.94 2.06-2.06.94zm-11 1L8.5 8.5l.94-2.06 2.06-.94-2.06-.94L8.5 2.5l-.94 2.06-2.06.94zm10 10l.94 2.06.94-2.06 2.06-.94-2.06-.94-.94-2.06-.94 2.06-2.06.94z\"/><path d=\"M17.41 7.96l-1.37-1.37c-.4-.4-.92-.59-1.43-.59-.52 0-1.04.2-1.43.59L10.3 9.45l-7.72 7.72c-.78.78-.78 2.05 0 2.83L4 21.41c.39.39.9.59 1.41.59.51 0 1.02-.2 1.41-.59l7.78-7.78 2.81-2.81c.8-.78.8-2.07 0-2.86zM5.41 20L4 18.59l7.72-7.72 1.47 1.35L5.41 20z\"/>\n",
              "  </svg>\n",
              "      </button>\n",
              "      \n",
              "  <style>\n",
              "    .colab-df-container {\n",
              "      display:flex;\n",
              "      flex-wrap:wrap;\n",
              "      gap: 12px;\n",
              "    }\n",
              "\n",
              "    .colab-df-convert {\n",
              "      background-color: #E8F0FE;\n",
              "      border: none;\n",
              "      border-radius: 50%;\n",
              "      cursor: pointer;\n",
              "      display: none;\n",
              "      fill: #1967D2;\n",
              "      height: 32px;\n",
              "      padding: 0 0 0 0;\n",
              "      width: 32px;\n",
              "    }\n",
              "\n",
              "    .colab-df-convert:hover {\n",
              "      background-color: #E2EBFA;\n",
              "      box-shadow: 0px 1px 2px rgba(60, 64, 67, 0.3), 0px 1px 3px 1px rgba(60, 64, 67, 0.15);\n",
              "      fill: #174EA6;\n",
              "    }\n",
              "\n",
              "    [theme=dark] .colab-df-convert {\n",
              "      background-color: #3B4455;\n",
              "      fill: #D2E3FC;\n",
              "    }\n",
              "\n",
              "    [theme=dark] .colab-df-convert:hover {\n",
              "      background-color: #434B5C;\n",
              "      box-shadow: 0px 1px 3px 1px rgba(0, 0, 0, 0.15);\n",
              "      filter: drop-shadow(0px 1px 2px rgba(0, 0, 0, 0.3));\n",
              "      fill: #FFFFFF;\n",
              "    }\n",
              "  </style>\n",
              "\n",
              "      <script>\n",
              "        const buttonEl =\n",
              "          document.querySelector('#df-bd2179af-2c0a-4d92-9584-42c1a669a635 button.colab-df-convert');\n",
              "        buttonEl.style.display =\n",
              "          google.colab.kernel.accessAllowed ? 'block' : 'none';\n",
              "\n",
              "        async function convertToInteractive(key) {\n",
              "          const element = document.querySelector('#df-bd2179af-2c0a-4d92-9584-42c1a669a635');\n",
              "          const dataTable =\n",
              "            await google.colab.kernel.invokeFunction('convertToInteractive',\n",
              "                                                     [key], {});\n",
              "          if (!dataTable) return;\n",
              "\n",
              "          const docLinkHtml = 'Like what you see? Visit the ' +\n",
              "            '<a target=\"_blank\" href=https://colab.research.google.com/notebooks/data_table.ipynb>data table notebook</a>'\n",
              "            + ' to learn more about interactive tables.';\n",
              "          element.innerHTML = '';\n",
              "          dataTable['output_type'] = 'display_data';\n",
              "          await google.colab.output.renderOutput(dataTable, element);\n",
              "          const docLink = document.createElement('div');\n",
              "          docLink.innerHTML = docLinkHtml;\n",
              "          element.appendChild(docLink);\n",
              "        }\n",
              "      </script>\n",
              "    </div>\n",
              "  </div>\n",
              "  "
            ]
          },
          "metadata": {},
          "execution_count": 39
        }
      ]
    },
    {
      "cell_type": "code",
      "source": [
        "data.dropna(subset=[\"id_product\"], inplace=True)\n",
        "data.describe()"
      ],
      "metadata": {
        "colab": {
          "base_uri": "https://localhost:8080/",
          "height": 300
        },
        "id": "tEyViCB4zzgr",
        "outputId": "3aef2265-0b69-4eae-e0c8-fb0be8cf5954"
      },
      "execution_count": 3,
      "outputs": [
        {
          "output_type": "execute_result",
          "data": {
            "text/plain": [
              "          timestamp   sum_payment    id_product        is_pay\n",
              "count  5.640200e+04  56402.000000  56402.000000  56402.000000\n",
              "mean   1.683685e+09      5.902149     10.477643      0.279795\n",
              "std    1.450370e+06     10.774763      6.328490      0.448902\n",
              "min    1.680310e+09      0.000000      0.000000      0.000000\n",
              "25%    1.682478e+09      0.000000      5.000000      0.000000\n",
              "50%    1.683887e+09      0.000000     10.000000      0.000000\n",
              "75%    1.685130e+09     12.000000     16.000000      1.000000\n",
              "max    1.685567e+09     53.000000     21.000000      1.000000"
            ],
            "text/html": [
              "\n",
              "  <div id=\"df-028c9f08-7c1d-48ba-b86c-46356122d059\">\n",
              "    <div class=\"colab-df-container\">\n",
              "      <div>\n",
              "<style scoped>\n",
              "    .dataframe tbody tr th:only-of-type {\n",
              "        vertical-align: middle;\n",
              "    }\n",
              "\n",
              "    .dataframe tbody tr th {\n",
              "        vertical-align: top;\n",
              "    }\n",
              "\n",
              "    .dataframe thead th {\n",
              "        text-align: right;\n",
              "    }\n",
              "</style>\n",
              "<table border=\"1\" class=\"dataframe\">\n",
              "  <thead>\n",
              "    <tr style=\"text-align: right;\">\n",
              "      <th></th>\n",
              "      <th>timestamp</th>\n",
              "      <th>sum_payment</th>\n",
              "      <th>id_product</th>\n",
              "      <th>is_pay</th>\n",
              "    </tr>\n",
              "  </thead>\n",
              "  <tbody>\n",
              "    <tr>\n",
              "      <th>count</th>\n",
              "      <td>5.640200e+04</td>\n",
              "      <td>56402.000000</td>\n",
              "      <td>56402.000000</td>\n",
              "      <td>56402.000000</td>\n",
              "    </tr>\n",
              "    <tr>\n",
              "      <th>mean</th>\n",
              "      <td>1.683685e+09</td>\n",
              "      <td>5.902149</td>\n",
              "      <td>10.477643</td>\n",
              "      <td>0.279795</td>\n",
              "    </tr>\n",
              "    <tr>\n",
              "      <th>std</th>\n",
              "      <td>1.450370e+06</td>\n",
              "      <td>10.774763</td>\n",
              "      <td>6.328490</td>\n",
              "      <td>0.448902</td>\n",
              "    </tr>\n",
              "    <tr>\n",
              "      <th>min</th>\n",
              "      <td>1.680310e+09</td>\n",
              "      <td>0.000000</td>\n",
              "      <td>0.000000</td>\n",
              "      <td>0.000000</td>\n",
              "    </tr>\n",
              "    <tr>\n",
              "      <th>25%</th>\n",
              "      <td>1.682478e+09</td>\n",
              "      <td>0.000000</td>\n",
              "      <td>5.000000</td>\n",
              "      <td>0.000000</td>\n",
              "    </tr>\n",
              "    <tr>\n",
              "      <th>50%</th>\n",
              "      <td>1.683887e+09</td>\n",
              "      <td>0.000000</td>\n",
              "      <td>10.000000</td>\n",
              "      <td>0.000000</td>\n",
              "    </tr>\n",
              "    <tr>\n",
              "      <th>75%</th>\n",
              "      <td>1.685130e+09</td>\n",
              "      <td>12.000000</td>\n",
              "      <td>16.000000</td>\n",
              "      <td>1.000000</td>\n",
              "    </tr>\n",
              "    <tr>\n",
              "      <th>max</th>\n",
              "      <td>1.685567e+09</td>\n",
              "      <td>53.000000</td>\n",
              "      <td>21.000000</td>\n",
              "      <td>1.000000</td>\n",
              "    </tr>\n",
              "  </tbody>\n",
              "</table>\n",
              "</div>\n",
              "      <button class=\"colab-df-convert\" onclick=\"convertToInteractive('df-028c9f08-7c1d-48ba-b86c-46356122d059')\"\n",
              "              title=\"Convert this dataframe to an interactive table.\"\n",
              "              style=\"display:none;\">\n",
              "        \n",
              "  <svg xmlns=\"http://www.w3.org/2000/svg\" height=\"24px\"viewBox=\"0 0 24 24\"\n",
              "       width=\"24px\">\n",
              "    <path d=\"M0 0h24v24H0V0z\" fill=\"none\"/>\n",
              "    <path d=\"M18.56 5.44l.94 2.06.94-2.06 2.06-.94-2.06-.94-.94-2.06-.94 2.06-2.06.94zm-11 1L8.5 8.5l.94-2.06 2.06-.94-2.06-.94L8.5 2.5l-.94 2.06-2.06.94zm10 10l.94 2.06.94-2.06 2.06-.94-2.06-.94-.94-2.06-.94 2.06-2.06.94z\"/><path d=\"M17.41 7.96l-1.37-1.37c-.4-.4-.92-.59-1.43-.59-.52 0-1.04.2-1.43.59L10.3 9.45l-7.72 7.72c-.78.78-.78 2.05 0 2.83L4 21.41c.39.39.9.59 1.41.59.51 0 1.02-.2 1.41-.59l7.78-7.78 2.81-2.81c.8-.78.8-2.07 0-2.86zM5.41 20L4 18.59l7.72-7.72 1.47 1.35L5.41 20z\"/>\n",
              "  </svg>\n",
              "      </button>\n",
              "      \n",
              "  <style>\n",
              "    .colab-df-container {\n",
              "      display:flex;\n",
              "      flex-wrap:wrap;\n",
              "      gap: 12px;\n",
              "    }\n",
              "\n",
              "    .colab-df-convert {\n",
              "      background-color: #E8F0FE;\n",
              "      border: none;\n",
              "      border-radius: 50%;\n",
              "      cursor: pointer;\n",
              "      display: none;\n",
              "      fill: #1967D2;\n",
              "      height: 32px;\n",
              "      padding: 0 0 0 0;\n",
              "      width: 32px;\n",
              "    }\n",
              "\n",
              "    .colab-df-convert:hover {\n",
              "      background-color: #E2EBFA;\n",
              "      box-shadow: 0px 1px 2px rgba(60, 64, 67, 0.3), 0px 1px 3px 1px rgba(60, 64, 67, 0.15);\n",
              "      fill: #174EA6;\n",
              "    }\n",
              "\n",
              "    [theme=dark] .colab-df-convert {\n",
              "      background-color: #3B4455;\n",
              "      fill: #D2E3FC;\n",
              "    }\n",
              "\n",
              "    [theme=dark] .colab-df-convert:hover {\n",
              "      background-color: #434B5C;\n",
              "      box-shadow: 0px 1px 3px 1px rgba(0, 0, 0, 0.15);\n",
              "      filter: drop-shadow(0px 1px 2px rgba(0, 0, 0, 0.3));\n",
              "      fill: #FFFFFF;\n",
              "    }\n",
              "  </style>\n",
              "\n",
              "      <script>\n",
              "        const buttonEl =\n",
              "          document.querySelector('#df-028c9f08-7c1d-48ba-b86c-46356122d059 button.colab-df-convert');\n",
              "        buttonEl.style.display =\n",
              "          google.colab.kernel.accessAllowed ? 'block' : 'none';\n",
              "\n",
              "        async function convertToInteractive(key) {\n",
              "          const element = document.querySelector('#df-028c9f08-7c1d-48ba-b86c-46356122d059');\n",
              "          const dataTable =\n",
              "            await google.colab.kernel.invokeFunction('convertToInteractive',\n",
              "                                                     [key], {});\n",
              "          if (!dataTable) return;\n",
              "\n",
              "          const docLinkHtml = 'Like what you see? Visit the ' +\n",
              "            '<a target=\"_blank\" href=https://colab.research.google.com/notebooks/data_table.ipynb>data table notebook</a>'\n",
              "            + ' to learn more about interactive tables.';\n",
              "          element.innerHTML = '';\n",
              "          dataTable['output_type'] = 'display_data';\n",
              "          await google.colab.output.renderOutput(dataTable, element);\n",
              "          const docLink = document.createElement('div');\n",
              "          docLink.innerHTML = docLinkHtml;\n",
              "          element.appendChild(docLink);\n",
              "        }\n",
              "      </script>\n",
              "    </div>\n",
              "  </div>\n",
              "  "
            ]
          },
          "metadata": {},
          "execution_count": 3
        }
      ]
    },
    {
      "cell_type": "markdown",
      "source": [
        "##Анализ выбросов"
      ],
      "metadata": {
        "id": "IifKVGYV5viK"
      }
    },
    {
      "cell_type": "code",
      "source": [
        "print(np.unique(data.sum_payment))\n",
        "data[data.sum_payment > 0].sum_payment.hist(bins=len(np.unique(data.sum_payment)))"
      ],
      "metadata": {
        "colab": {
          "base_uri": "https://localhost:8080/",
          "height": 465
        },
        "id": "diDWWspaz48F",
        "outputId": "5e0271b6-7205-4b07-b264-04da45e404a3"
      },
      "execution_count": null,
      "outputs": [
        {
          "output_type": "stream",
          "name": "stdout",
          "text": [
            "[ 0 10 11 12 13 14 16 19 20 22 25 27 28 31 36 37 38 53]\n"
          ]
        },
        {
          "output_type": "execute_result",
          "data": {
            "text/plain": [
              "<Axes: >"
            ]
          },
          "metadata": {},
          "execution_count": 32
        },
        {
          "output_type": "display_data",
          "data": {
            "text/plain": [
              "<Figure size 640x480 with 1 Axes>"
            ],
            "image/png": "[encoded data removed]"
          },
          "metadata": {}
        }
      ]
    },
    {
      "cell_type": "code",
      "source": [
        "outliers = data[data.sum_payment > data.sum_payment.mean() + 3 * data.sum_payment.std()]\n",
        "print(\"% of outliers\", {outliers.shape[0] / data.shape[0]})\n",
        "outliers.describe()\n"
      ],
      "metadata": {
        "colab": {
          "base_uri": "https://localhost:8080/",
          "height": 318
        },
        "id": "Lh3GY9mv0Gs1",
        "outputId": "2733fac2-e98e-4256-b960-681e50e98696"
      },
      "execution_count": null,
      "outputs": [
        {
          "output_type": "stream",
          "name": "stdout",
          "text": [
            "% of outliers {0.0025176412183965107}\n"
          ]
        },
        {
          "output_type": "execute_result",
          "data": {
            "text/plain": [
              "          timestamp  sum_payment  id_product  is_pay\n",
              "count  1.420000e+02        142.0       142.0   142.0\n",
              "mean   1.683954e+09         53.0         8.0     1.0\n",
              "std    1.505430e+06          0.0         0.0     0.0\n",
              "min    1.680812e+09         53.0         8.0     1.0\n",
              "25%    1.682560e+09         53.0         8.0     1.0\n",
              "50%    1.684644e+09         53.0         8.0     1.0\n",
              "75%    1.685302e+09         53.0         8.0     1.0\n",
              "max    1.685565e+09         53.0         8.0     1.0"
            ],
            "text/html": [
              "\n",
              "  <div id=\"df-e9221eee-7ca9-4dec-affb-cc5338dd064a\">\n",
              "    <div class=\"colab-df-container\">\n",
              "      <div>\n",
              "<style scoped>\n",
              "    .dataframe tbody tr th:only-of-type {\n",
              "        vertical-align: middle;\n",
              "    }\n",
              "\n",
              "    .dataframe tbody tr th {\n",
              "        vertical-align: top;\n",
              "    }\n",
              "\n",
              "    .dataframe thead th {\n",
              "        text-align: right;\n",
              "    }\n",
              "</style>\n",
              "<table border=\"1\" class=\"dataframe\">\n",
              "  <thead>\n",
              "    <tr style=\"text-align: right;\">\n",
              "      <th></th>\n",
              "      <th>timestamp</th>\n",
              "      <th>sum_payment</th>\n",
              "      <th>id_product</th>\n",
              "      <th>is_pay</th>\n",
              "    </tr>\n",
              "  </thead>\n",
              "  <tbody>\n",
              "    <tr>\n",
              "      <th>count</th>\n",
              "      <td>1.420000e+02</td>\n",
              "      <td>142.0</td>\n",
              "      <td>142.0</td>\n",
              "      <td>142.0</td>\n",
              "    </tr>\n",
              "    <tr>\n",
              "      <th>mean</th>\n",
              "      <td>1.683954e+09</td>\n",
              "      <td>53.0</td>\n",
              "      <td>8.0</td>\n",
              "      <td>1.0</td>\n",
              "    </tr>\n",
              "    <tr>\n",
              "      <th>std</th>\n",
              "      <td>1.505430e+06</td>\n",
              "      <td>0.0</td>\n",
              "      <td>0.0</td>\n",
              "      <td>0.0</td>\n",
              "    </tr>\n",
              "    <tr>\n",
              "      <th>min</th>\n",
              "      <td>1.680812e+09</td>\n",
              "      <td>53.0</td>\n",
              "      <td>8.0</td>\n",
              "      <td>1.0</td>\n",
              "    </tr>\n",
              "    <tr>\n",
              "      <th>25%</th>\n",
              "      <td>1.682560e+09</td>\n",
              "      <td>53.0</td>\n",
              "      <td>8.0</td>\n",
              "      <td>1.0</td>\n",
              "    </tr>\n",
              "    <tr>\n",
              "      <th>50%</th>\n",
              "      <td>1.684644e+09</td>\n",
              "      <td>53.0</td>\n",
              "      <td>8.0</td>\n",
              "      <td>1.0</td>\n",
              "    </tr>\n",
              "    <tr>\n",
              "      <th>75%</th>\n",
              "      <td>1.685302e+09</td>\n",
              "      <td>53.0</td>\n",
              "      <td>8.0</td>\n",
              "      <td>1.0</td>\n",
              "    </tr>\n",
              "    <tr>\n",
              "      <th>max</th>\n",
              "      <td>1.685565e+09</td>\n",
              "      <td>53.0</td>\n",
              "      <td>8.0</td>\n",
              "      <td>1.0</td>\n",
              "    </tr>\n",
              "  </tbody>\n",
              "</table>\n",
              "</div>\n",
              "      <button class=\"colab-df-convert\" onclick=\"convertToInteractive('df-e9221eee-7ca9-4dec-affb-cc5338dd064a')\"\n",
              "              title=\"Convert this dataframe to an interactive table.\"\n",
              "              style=\"display:none;\">\n",
              "        \n",
              "  <svg xmlns=\"http://www.w3.org/2000/svg\" height=\"24px\"viewBox=\"0 0 24 24\"\n",
              "       width=\"24px\">\n",
              "    <path d=\"M0 0h24v24H0V0z\" fill=\"none\"/>\n",
              "    <path d=\"M18.56 5.44l.94 2.06.94-2.06 2.06-.94-2.06-.94-.94-2.06-.94 2.06-2.06.94zm-11 1L8.5 8.5l.94-2.06 2.06-.94-2.06-.94L8.5 2.5l-.94 2.06-2.06.94zm10 10l.94 2.06.94-2.06 2.06-.94-2.06-.94-.94-2.06-.94 2.06-2.06.94z\"/><path d=\"M17.41 7.96l-1.37-1.37c-.4-.4-.92-.59-1.43-.59-.52 0-1.04.2-1.43.59L10.3 9.45l-7.72 7.72c-.78.78-.78 2.05 0 2.83L4 21.41c.39.39.9.59 1.41.59.51 0 1.02-.2 1.41-.59l7.78-7.78 2.81-2.81c.8-.78.8-2.07 0-2.86zM5.41 20L4 18.59l7.72-7.72 1.47 1.35L5.41 20z\"/>\n",
              "  </svg>\n",
              "      </button>\n",
              "      \n",
              "  <style>\n",
              "    .colab-df-container {\n",
              "      display:flex;\n",
              "      flex-wrap:wrap;\n",
              "      gap: 12px;\n",
              "    }\n",
              "\n",
              "    .colab-df-convert {\n",
              "      background-color: #E8F0FE;\n",
              "      border: none;\n",
              "      border-radius: 50%;\n",
              "      cursor: pointer;\n",
              "      display: none;\n",
              "      fill: #1967D2;\n",
              "      height: 32px;\n",
              "      padding: 0 0 0 0;\n",
              "      width: 32px;\n",
              "    }\n",
              "\n",
              "    .colab-df-convert:hover {\n",
              "      background-color: #E2EBFA;\n",
              "      box-shadow: 0px 1px 2px rgba(60, 64, 67, 0.3), 0px 1px 3px 1px rgba(60, 64, 67, 0.15);\n",
              "      fill: #174EA6;\n",
              "    }\n",
              "\n",
              "    [theme=dark] .colab-df-convert {\n",
              "      background-color: #3B4455;\n",
              "      fill: #D2E3FC;\n",
              "    }\n",
              "\n",
              "    [theme=dark] .colab-df-convert:hover {\n",
              "      background-color: #434B5C;\n",
              "      box-shadow: 0px 1px 3px 1px rgba(0, 0, 0, 0.15);\n",
              "      filter: drop-shadow(0px 1px 2px rgba(0, 0, 0, 0.3));\n",
              "      fill: #FFFFFF;\n",
              "    }\n",
              "  </style>\n",
              "\n",
              "      <script>\n",
              "        const buttonEl =\n",
              "          document.querySelector('#df-e9221eee-7ca9-4dec-affb-cc5338dd064a button.colab-df-convert');\n",
              "        buttonEl.style.display =\n",
              "          google.colab.kernel.accessAllowed ? 'block' : 'none';\n",
              "\n",
              "        async function convertToInteractive(key) {\n",
              "          const element = document.querySelector('#df-e9221eee-7ca9-4dec-affb-cc5338dd064a');\n",
              "          const dataTable =\n",
              "            await google.colab.kernel.invokeFunction('convertToInteractive',\n",
              "                                                     [key], {});\n",
              "          if (!dataTable) return;\n",
              "\n",
              "          const docLinkHtml = 'Like what you see? Visit the ' +\n",
              "            '<a target=\"_blank\" href=https://colab.research.google.com/notebooks/data_table.ipynb>data table notebook</a>'\n",
              "            + ' to learn more about interactive tables.';\n",
              "          element.innerHTML = '';\n",
              "          dataTable['output_type'] = 'display_data';\n",
              "          await google.colab.output.renderOutput(dataTable, element);\n",
              "          const docLink = document.createElement('div');\n",
              "          docLink.innerHTML = docLinkHtml;\n",
              "          element.appendChild(docLink);\n",
              "        }\n",
              "      </script>\n",
              "    </div>\n",
              "  </div>\n",
              "  "
            ]
          },
          "metadata": {},
          "execution_count": 42
        }
      ]
    },
    {
      "cell_type": "code",
      "source": [
        "data[data.id_product==8].sum_payment.hist(bins=len(np.unique(data.sum_payment)))"
      ],
      "metadata": {
        "colab": {
          "base_uri": "https://localhost:8080/",
          "height": 447
        },
        "id": "T5dXx6FK4nJo",
        "outputId": "aa3abcb9-70b0-4d1a-c2b1-47c7aed1dd9d"
      },
      "execution_count": null,
      "outputs": [
        {
          "output_type": "execute_result",
          "data": {
            "text/plain": [
              "<Axes: >"
            ]
          },
          "metadata": {},
          "execution_count": 45
        },
        {
          "output_type": "display_data",
          "data": {
            "text/plain": [
              "<Figure size 640x480 with 1 Axes>"
            ],
            "image/png": "[encoded data removed]"
          },
          "metadata": {}
        }
      ]
    },
    {
      "cell_type": "code",
      "source": [
        "print(\"Unique ids of products\", np.unique(data.id_product))\n",
        "num_product = len(np.unique(data.id_product))\n",
        "data.id_product.hist(bins=num_product)"
      ],
      "metadata": {
        "colab": {
          "base_uri": "https://localhost:8080/",
          "height": 482
        },
        "id": "OIy3r9hI2Aos",
        "outputId": "817c3e3d-a2e6-4ed2-cf24-d706d0b4ee1b"
      },
      "execution_count": null,
      "outputs": [
        {
          "output_type": "stream",
          "name": "stdout",
          "text": [
            "Unique ids of products [ 0.  1.  2.  3.  4.  5.  6.  7.  8.  9. 10. 11. 12. 13. 14. 15. 16. 17.\n",
            " 18. 19. 20. 21.]\n"
          ]
        },
        {
          "output_type": "execute_result",
          "data": {
            "text/plain": [
              "<Axes: >"
            ]
          },
          "metadata": {},
          "execution_count": 43
        },
        {
          "output_type": "display_data",
          "data": {
            "text/plain": [
              "<Figure size 640x480 with 1 Axes>"
            ],
            "image/png": "[encoded data removed]"
          },
          "metadata": {}
        }
      ]
    },
    {
      "cell_type": "markdown",
      "source": [
        "Видим, что в данных есть выбросы по полю sum_payments (всего 0,25%) и касаются только одного вида товара (id_product = 8). Мы их выбросим из данных и посмотрим как изменяться статистики"
      ],
      "metadata": {
        "id": "ZMtdNluU5Jvl"
      }
    },
    {
      "cell_type": "code",
      "source": [
        "data_clean = data[data.sum_payment < data.sum_payment.mean() + 3 * data.sum_payment.std()]\n",
        "data_clean.describe()"
      ],
      "metadata": {
        "colab": {
          "base_uri": "https://localhost:8080/",
          "height": 300
        },
        "id": "-zZC-QOf1ZIp",
        "outputId": "5d6080dd-f7c7-4f27-adcf-064be83da951"
      },
      "execution_count": 4,
      "outputs": [
        {
          "output_type": "execute_result",
          "data": {
            "text/plain": [
              "          timestamp   sum_payment    id_product        is_pay\n",
              "count  5.626000e+04  56260.000000  56260.000000  56260.000000\n",
              "mean   1.683684e+09      5.783274     10.483896      0.277977\n",
              "std    1.450178e+06     10.524997      6.335246      0.448006\n",
              "min    1.680310e+09      0.000000      0.000000      0.000000\n",
              "25%    1.682477e+09      0.000000      5.000000      0.000000\n",
              "50%    1.683885e+09      0.000000     11.000000      0.000000\n",
              "75%    1.685129e+09     12.000000     16.000000      1.000000\n",
              "max    1.685567e+09     38.000000     21.000000      1.000000"
            ],
            "text/html": [
              "\n",
              "  <div id=\"df-255e4c5a-d12c-4331-b642-2bb131553771\">\n",
              "    <div class=\"colab-df-container\">\n",
              "      <div>\n",
              "<style scoped>\n",
              "    .dataframe tbody tr th:only-of-type {\n",
              "        vertical-align: middle;\n",
              "    }\n",
              "\n",
              "    .dataframe tbody tr th {\n",
              "        vertical-align: top;\n",
              "    }\n",
              "\n",
              "    .dataframe thead th {\n",
              "        text-align: right;\n",
              "    }\n",
              "</style>\n",
              "<table border=\"1\" class=\"dataframe\">\n",
              "  <thead>\n",
              "    <tr style=\"text-align: right;\">\n",
              "      <th></th>\n",
              "      <th>timestamp</th>\n",
              "      <th>sum_payment</th>\n",
              "      <th>id_product</th>\n",
              "      <th>is_pay</th>\n",
              "    </tr>\n",
              "  </thead>\n",
              "  <tbody>\n",
              "    <tr>\n",
              "      <th>count</th>\n",
              "      <td>5.626000e+04</td>\n",
              "      <td>56260.000000</td>\n",
              "      <td>56260.000000</td>\n",
              "      <td>56260.000000</td>\n",
              "    </tr>\n",
              "    <tr>\n",
              "      <th>mean</th>\n",
              "      <td>1.683684e+09</td>\n",
              "      <td>5.783274</td>\n",
              "      <td>10.483896</td>\n",
              "      <td>0.277977</td>\n",
              "    </tr>\n",
              "    <tr>\n",
              "      <th>std</th>\n",
              "      <td>1.450178e+06</td>\n",
              "      <td>10.524997</td>\n",
              "      <td>6.335246</td>\n",
              "      <td>0.448006</td>\n",
              "    </tr>\n",
              "    <tr>\n",
              "      <th>min</th>\n",
              "      <td>1.680310e+09</td>\n",
              "      <td>0.000000</td>\n",
              "      <td>0.000000</td>\n",
              "      <td>0.000000</td>\n",
              "    </tr>\n",
              "    <tr>\n",
              "      <th>25%</th>\n",
              "      <td>1.682477e+09</td>\n",
              "      <td>0.000000</td>\n",
              "      <td>5.000000</td>\n",
              "      <td>0.000000</td>\n",
              "    </tr>\n",
              "    <tr>\n",
              "      <th>50%</th>\n",
              "      <td>1.683885e+09</td>\n",
              "      <td>0.000000</td>\n",
              "      <td>11.000000</td>\n",
              "      <td>0.000000</td>\n",
              "    </tr>\n",
              "    <tr>\n",
              "      <th>75%</th>\n",
              "      <td>1.685129e+09</td>\n",
              "      <td>12.000000</td>\n",
              "      <td>16.000000</td>\n",
              "      <td>1.000000</td>\n",
              "    </tr>\n",
              "    <tr>\n",
              "      <th>max</th>\n",
              "      <td>1.685567e+09</td>\n",
              "      <td>38.000000</td>\n",
              "      <td>21.000000</td>\n",
              "      <td>1.000000</td>\n",
              "    </tr>\n",
              "  </tbody>\n",
              "</table>\n",
              "</div>\n",
              "      <button class=\"colab-df-convert\" onclick=\"convertToInteractive('df-255e4c5a-d12c-4331-b642-2bb131553771')\"\n",
              "              title=\"Convert this dataframe to an interactive table.\"\n",
              "              style=\"display:none;\">\n",
              "        \n",
              "  <svg xmlns=\"http://www.w3.org/2000/svg\" height=\"24px\"viewBox=\"0 0 24 24\"\n",
              "       width=\"24px\">\n",
              "    <path d=\"M0 0h24v24H0V0z\" fill=\"none\"/>\n",
              "    <path d=\"M18.56 5.44l.94 2.06.94-2.06 2.06-.94-2.06-.94-.94-2.06-.94 2.06-2.06.94zm-11 1L8.5 8.5l.94-2.06 2.06-.94-2.06-.94L8.5 2.5l-.94 2.06-2.06.94zm10 10l.94 2.06.94-2.06 2.06-.94-2.06-.94-.94-2.06-.94 2.06-2.06.94z\"/><path d=\"M17.41 7.96l-1.37-1.37c-.4-.4-.92-.59-1.43-.59-.52 0-1.04.2-1.43.59L10.3 9.45l-7.72 7.72c-.78.78-.78 2.05 0 2.83L4 21.41c.39.39.9.59 1.41.59.51 0 1.02-.2 1.41-.59l7.78-7.78 2.81-2.81c.8-.78.8-2.07 0-2.86zM5.41 20L4 18.59l7.72-7.72 1.47 1.35L5.41 20z\"/>\n",
              "  </svg>\n",
              "      </button>\n",
              "      \n",
              "  <style>\n",
              "    .colab-df-container {\n",
              "      display:flex;\n",
              "      flex-wrap:wrap;\n",
              "      gap: 12px;\n",
              "    }\n",
              "\n",
              "    .colab-df-convert {\n",
              "      background-color: #E8F0FE;\n",
              "      border: none;\n",
              "      border-radius: 50%;\n",
              "      cursor: pointer;\n",
              "      display: none;\n",
              "      fill: #1967D2;\n",
              "      height: 32px;\n",
              "      padding: 0 0 0 0;\n",
              "      width: 32px;\n",
              "    }\n",
              "\n",
              "    .colab-df-convert:hover {\n",
              "      background-color: #E2EBFA;\n",
              "      box-shadow: 0px 1px 2px rgba(60, 64, 67, 0.3), 0px 1px 3px 1px rgba(60, 64, 67, 0.15);\n",
              "      fill: #174EA6;\n",
              "    }\n",
              "\n",
              "    [theme=dark] .colab-df-convert {\n",
              "      background-color: #3B4455;\n",
              "      fill: #D2E3FC;\n",
              "    }\n",
              "\n",
              "    [theme=dark] .colab-df-convert:hover {\n",
              "      background-color: #434B5C;\n",
              "      box-shadow: 0px 1px 3px 1px rgba(0, 0, 0, 0.15);\n",
              "      filter: drop-shadow(0px 1px 2px rgba(0, 0, 0, 0.3));\n",
              "      fill: #FFFFFF;\n",
              "    }\n",
              "  </style>\n",
              "\n",
              "      <script>\n",
              "        const buttonEl =\n",
              "          document.querySelector('#df-255e4c5a-d12c-4331-b642-2bb131553771 button.colab-df-convert');\n",
              "        buttonEl.style.display =\n",
              "          google.colab.kernel.accessAllowed ? 'block' : 'none';\n",
              "\n",
              "        async function convertToInteractive(key) {\n",
              "          const element = document.querySelector('#df-255e4c5a-d12c-4331-b642-2bb131553771');\n",
              "          const dataTable =\n",
              "            await google.colab.kernel.invokeFunction('convertToInteractive',\n",
              "                                                     [key], {});\n",
              "          if (!dataTable) return;\n",
              "\n",
              "          const docLinkHtml = 'Like what you see? Visit the ' +\n",
              "            '<a target=\"_blank\" href=https://colab.research.google.com/notebooks/data_table.ipynb>data table notebook</a>'\n",
              "            + ' to learn more about interactive tables.';\n",
              "          element.innerHTML = '';\n",
              "          dataTable['output_type'] = 'display_data';\n",
              "          await google.colab.output.renderOutput(dataTable, element);\n",
              "          const docLink = document.createElement('div');\n",
              "          docLink.innerHTML = docLinkHtml;\n",
              "          element.appendChild(docLink);\n",
              "        }\n",
              "      </script>\n",
              "    </div>\n",
              "  </div>\n",
              "  "
            ]
          },
          "metadata": {},
          "execution_count": 4
        }
      ]
    },
    {
      "cell_type": "markdown",
      "source": [
        "##Рассчитаем длительность теста.\n",
        "\n",
        "Результаты выше показывают, что нет существенных отличий в количестве пользователей и их платежах по городам. Поэтому для тестирования мы можем брать пользователей из любого города.\n",
        "\n",
        "Затем найдем средний платеж пользователей в неделю, и дисперсию\n",
        "\n",
        "Зададим ошибки первого и второго рода: $α=0.05, β=0.2$.\n",
        "\n",
        "И эффект равный 10% от дохода за неделю"
      ],
      "metadata": {
        "id": "DVraBHRF8Bd3"
      }
    },
    {
      "cell_type": "markdown",
      "source": [
        "Разобьем данные по периодам до 1-05-2023 и после"
      ],
      "metadata": {
        "id": "ijmE2ZRM79qt"
      }
    },
    {
      "cell_type": "code",
      "source": [
        "data_clean[\"date\"] = pd.to_datetime(data_clean.date)\n",
        "data_pred = data_clean[data_clean.date < datetime.strptime(\"2023-05-01\", '%Y-%m-%d')]\n",
        "data_post = data_clean[data_clean.date > datetime.strptime(\"2023-05-01\", '%Y-%m-%d')]\n"
      ],
      "metadata": {
        "id": "vYUnFJbL5-uQ"
      },
      "execution_count": 5,
      "outputs": []
    },
    {
      "cell_type": "code",
      "source": [
        "data_pred.head()"
      ],
      "metadata": {
        "colab": {
          "base_uri": "https://localhost:8080/",
          "height": 206
        },
        "id": "qM13YspSnjdp",
        "outputId": "598ff36e-e034-446a-c1e9-ad020a04f470"
      },
      "execution_count": null,
      "outputs": [
        {
          "output_type": "execute_result",
          "data": {
            "text/plain": [
              "    timestamp    id_user  sum_payment group             city  id_product  \\\n",
              "0  1680330573  user_9903           27   NaN  Санкт-Петербург         4.0   \n",
              "1  1680332652  user_6732            0   NaN           Рязань         1.0   \n",
              "2  1680378039  user_4199            0   NaN           Москва         3.0   \n",
              "3  1680337580  user_3606           12   NaN  Санкт-Петербург         7.0   \n",
              "4  1680334389  user_9519            0   NaN  Санкт-Петербург        14.0   \n",
              "\n",
              "   is_pay       date  \n",
              "0       1 2023-04-01  \n",
              "1       0 2023-04-01  \n",
              "2       0 2023-04-01  \n",
              "3       1 2023-04-01  \n",
              "4       0 2023-04-01  "
            ],
            "text/html": [
              "\n",
              "  <div id=\"df-ecdb812f-4fcb-46d1-a068-47e9d42d4bef\">\n",
              "    <div class=\"colab-df-container\">\n",
              "      <div>\n",
              "<style scoped>\n",
              "    .dataframe tbody tr th:only-of-type {\n",
              "        vertical-align: middle;\n",
              "    }\n",
              "\n",
              "    .dataframe tbody tr th {\n",
              "        vertical-align: top;\n",
              "    }\n",
              "\n",
              "    .dataframe thead th {\n",
              "        text-align: right;\n",
              "    }\n",
              "</style>\n",
              "<table border=\"1\" class=\"dataframe\">\n",
              "  <thead>\n",
              "    <tr style=\"text-align: right;\">\n",
              "      <th></th>\n",
              "      <th>timestamp</th>\n",
              "      <th>id_user</th>\n",
              "      <th>sum_payment</th>\n",
              "      <th>group</th>\n",
              "      <th>city</th>\n",
              "      <th>id_product</th>\n",
              "      <th>is_pay</th>\n",
              "      <th>date</th>\n",
              "    </tr>\n",
              "  </thead>\n",
              "  <tbody>\n",
              "    <tr>\n",
              "      <th>0</th>\n",
              "      <td>1680330573</td>\n",
              "      <td>user_9903</td>\n",
              "      <td>27</td>\n",
              "      <td>NaN</td>\n",
              "      <td>Санкт-Петербург</td>\n",
              "      <td>4.0</td>\n",
              "      <td>1</td>\n",
              "      <td>2023-04-01</td>\n",
              "    </tr>\n",
              "    <tr>\n",
              "      <th>1</th>\n",
              "      <td>1680332652</td>\n",
              "      <td>user_6732</td>\n",
              "      <td>0</td>\n",
              "      <td>NaN</td>\n",
              "      <td>Рязань</td>\n",
              "      <td>1.0</td>\n",
              "      <td>0</td>\n",
              "      <td>2023-04-01</td>\n",
              "    </tr>\n",
              "    <tr>\n",
              "      <th>2</th>\n",
              "      <td>1680378039</td>\n",
              "      <td>user_4199</td>\n",
              "      <td>0</td>\n",
              "      <td>NaN</td>\n",
              "      <td>Москва</td>\n",
              "      <td>3.0</td>\n",
              "      <td>0</td>\n",
              "      <td>2023-04-01</td>\n",
              "    </tr>\n",
              "    <tr>\n",
              "      <th>3</th>\n",
              "      <td>1680337580</td>\n",
              "      <td>user_3606</td>\n",
              "      <td>12</td>\n",
              "      <td>NaN</td>\n",
              "      <td>Санкт-Петербург</td>\n",
              "      <td>7.0</td>\n",
              "      <td>1</td>\n",
              "      <td>2023-04-01</td>\n",
              "    </tr>\n",
              "    <tr>\n",
              "      <th>4</th>\n",
              "      <td>1680334389</td>\n",
              "      <td>user_9519</td>\n",
              "      <td>0</td>\n",
              "      <td>NaN</td>\n",
              "      <td>Санкт-Петербург</td>\n",
              "      <td>14.0</td>\n",
              "      <td>0</td>\n",
              "      <td>2023-04-01</td>\n",
              "    </tr>\n",
              "  </tbody>\n",
              "</table>\n",
              "</div>\n",
              "      <button class=\"colab-df-convert\" onclick=\"convertToInteractive('df-ecdb812f-4fcb-46d1-a068-47e9d42d4bef')\"\n",
              "              title=\"Convert this dataframe to an interactive table.\"\n",
              "              style=\"display:none;\">\n",
              "        \n",
              "  <svg xmlns=\"http://www.w3.org/2000/svg\" height=\"24px\"viewBox=\"0 0 24 24\"\n",
              "       width=\"24px\">\n",
              "    <path d=\"M0 0h24v24H0V0z\" fill=\"none\"/>\n",
              "    <path d=\"M18.56 5.44l.94 2.06.94-2.06 2.06-.94-2.06-.94-.94-2.06-.94 2.06-2.06.94zm-11 1L8.5 8.5l.94-2.06 2.06-.94-2.06-.94L8.5 2.5l-.94 2.06-2.06.94zm10 10l.94 2.06.94-2.06 2.06-.94-2.06-.94-.94-2.06-.94 2.06-2.06.94z\"/><path d=\"M17.41 7.96l-1.37-1.37c-.4-.4-.92-.59-1.43-.59-.52 0-1.04.2-1.43.59L10.3 9.45l-7.72 7.72c-.78.78-.78 2.05 0 2.83L4 21.41c.39.39.9.59 1.41.59.51 0 1.02-.2 1.41-.59l7.78-7.78 2.81-2.81c.8-.78.8-2.07 0-2.86zM5.41 20L4 18.59l7.72-7.72 1.47 1.35L5.41 20z\"/>\n",
              "  </svg>\n",
              "      </button>\n",
              "      \n",
              "  <style>\n",
              "    .colab-df-container {\n",
              "      display:flex;\n",
              "      flex-wrap:wrap;\n",
              "      gap: 12px;\n",
              "    }\n",
              "\n",
              "    .colab-df-convert {\n",
              "      background-color: #E8F0FE;\n",
              "      border: none;\n",
              "      border-radius: 50%;\n",
              "      cursor: pointer;\n",
              "      display: none;\n",
              "      fill: #1967D2;\n",
              "      height: 32px;\n",
              "      padding: 0 0 0 0;\n",
              "      width: 32px;\n",
              "    }\n",
              "\n",
              "    .colab-df-convert:hover {\n",
              "      background-color: #E2EBFA;\n",
              "      box-shadow: 0px 1px 2px rgba(60, 64, 67, 0.3), 0px 1px 3px 1px rgba(60, 64, 67, 0.15);\n",
              "      fill: #174EA6;\n",
              "    }\n",
              "\n",
              "    [theme=dark] .colab-df-convert {\n",
              "      background-color: #3B4455;\n",
              "      fill: #D2E3FC;\n",
              "    }\n",
              "\n",
              "    [theme=dark] .colab-df-convert:hover {\n",
              "      background-color: #434B5C;\n",
              "      box-shadow: 0px 1px 3px 1px rgba(0, 0, 0, 0.15);\n",
              "      filter: drop-shadow(0px 1px 2px rgba(0, 0, 0, 0.3));\n",
              "      fill: #FFFFFF;\n",
              "    }\n",
              "  </style>\n",
              "\n",
              "      <script>\n",
              "        const buttonEl =\n",
              "          document.querySelector('#df-ecdb812f-4fcb-46d1-a068-47e9d42d4bef button.colab-df-convert');\n",
              "        buttonEl.style.display =\n",
              "          google.colab.kernel.accessAllowed ? 'block' : 'none';\n",
              "\n",
              "        async function convertToInteractive(key) {\n",
              "          const element = document.querySelector('#df-ecdb812f-4fcb-46d1-a068-47e9d42d4bef');\n",
              "          const dataTable =\n",
              "            await google.colab.kernel.invokeFunction('convertToInteractive',\n",
              "                                                     [key], {});\n",
              "          if (!dataTable) return;\n",
              "\n",
              "          const docLinkHtml = 'Like what you see? Visit the ' +\n",
              "            '<a target=\"_blank\" href=https://colab.research.google.com/notebooks/data_table.ipynb>data table notebook</a>'\n",
              "            + ' to learn more about interactive tables.';\n",
              "          element.innerHTML = '';\n",
              "          dataTable['output_type'] = 'display_data';\n",
              "          await google.colab.output.renderOutput(dataTable, element);\n",
              "          const docLink = document.createElement('div');\n",
              "          docLink.innerHTML = docLinkHtml;\n",
              "          element.appendChild(docLink);\n",
              "        }\n",
              "      </script>\n",
              "    </div>\n",
              "  </div>\n",
              "  "
            ]
          },
          "metadata": {},
          "execution_count": 117
        }
      ]
    },
    {
      "cell_type": "markdown",
      "source": [
        "Посмотрим, как распределены пользователи и их платежи по локации"
      ],
      "metadata": {
        "id": "9hmGjMzPDE_U"
      }
    },
    {
      "cell_type": "code",
      "source": [
        "city_payments = data_pred[[\"city\", \"sum_payment\"]].groupby(by=[\"city\"]).sum()\n",
        "city_payments"
      ],
      "metadata": {
        "colab": {
          "base_uri": "https://localhost:8080/",
          "height": 237
        },
        "id": "0fFLP5w5JX68",
        "outputId": "e735c99f-7920-4122-b033-4d5b753f9e71"
      },
      "execution_count": null,
      "outputs": [
        {
          "output_type": "execute_result",
          "data": {
            "text/plain": [
              "                 sum_payment\n",
              "city                        \n",
              "Москва                 28111\n",
              "Рязань                 39646\n",
              "Санкт-Петербург        27582\n",
              "Тула                   13782\n",
              "Ярославь               28273"
            ],
            "text/html": [
              "\n",
              "  <div id=\"df-b08fcd04-4077-41ec-bd33-9fd8efb21147\">\n",
              "    <div class=\"colab-df-container\">\n",
              "      <div>\n",
              "<style scoped>\n",
              "    .dataframe tbody tr th:only-of-type {\n",
              "        vertical-align: middle;\n",
              "    }\n",
              "\n",
              "    .dataframe tbody tr th {\n",
              "        vertical-align: top;\n",
              "    }\n",
              "\n",
              "    .dataframe thead th {\n",
              "        text-align: right;\n",
              "    }\n",
              "</style>\n",
              "<table border=\"1\" class=\"dataframe\">\n",
              "  <thead>\n",
              "    <tr style=\"text-align: right;\">\n",
              "      <th></th>\n",
              "      <th>sum_payment</th>\n",
              "    </tr>\n",
              "    <tr>\n",
              "      <th>city</th>\n",
              "      <th></th>\n",
              "    </tr>\n",
              "  </thead>\n",
              "  <tbody>\n",
              "    <tr>\n",
              "      <th>Москва</th>\n",
              "      <td>28111</td>\n",
              "    </tr>\n",
              "    <tr>\n",
              "      <th>Рязань</th>\n",
              "      <td>39646</td>\n",
              "    </tr>\n",
              "    <tr>\n",
              "      <th>Санкт-Петербург</th>\n",
              "      <td>27582</td>\n",
              "    </tr>\n",
              "    <tr>\n",
              "      <th>Тула</th>\n",
              "      <td>13782</td>\n",
              "    </tr>\n",
              "    <tr>\n",
              "      <th>Ярославь</th>\n",
              "      <td>28273</td>\n",
              "    </tr>\n",
              "  </tbody>\n",
              "</table>\n",
              "</div>\n",
              "      <button class=\"colab-df-convert\" onclick=\"convertToInteractive('df-b08fcd04-4077-41ec-bd33-9fd8efb21147')\"\n",
              "              title=\"Convert this dataframe to an interactive table.\"\n",
              "              style=\"display:none;\">\n",
              "        \n",
              "  <svg xmlns=\"http://www.w3.org/2000/svg\" height=\"24px\"viewBox=\"0 0 24 24\"\n",
              "       width=\"24px\">\n",
              "    <path d=\"M0 0h24v24H0V0z\" fill=\"none\"/>\n",
              "    <path d=\"M18.56 5.44l.94 2.06.94-2.06 2.06-.94-2.06-.94-.94-2.06-.94 2.06-2.06.94zm-11 1L8.5 8.5l.94-2.06 2.06-.94-2.06-.94L8.5 2.5l-.94 2.06-2.06.94zm10 10l.94 2.06.94-2.06 2.06-.94-2.06-.94-.94-2.06-.94 2.06-2.06.94z\"/><path d=\"M17.41 7.96l-1.37-1.37c-.4-.4-.92-.59-1.43-.59-.52 0-1.04.2-1.43.59L10.3 9.45l-7.72 7.72c-.78.78-.78 2.05 0 2.83L4 21.41c.39.39.9.59 1.41.59.51 0 1.02-.2 1.41-.59l7.78-7.78 2.81-2.81c.8-.78.8-2.07 0-2.86zM5.41 20L4 18.59l7.72-7.72 1.47 1.35L5.41 20z\"/>\n",
              "  </svg>\n",
              "      </button>\n",
              "      \n",
              "  <style>\n",
              "    .colab-df-container {\n",
              "      display:flex;\n",
              "      flex-wrap:wrap;\n",
              "      gap: 12px;\n",
              "    }\n",
              "\n",
              "    .colab-df-convert {\n",
              "      background-color: #E8F0FE;\n",
              "      border: none;\n",
              "      border-radius: 50%;\n",
              "      cursor: pointer;\n",
              "      display: none;\n",
              "      fill: #1967D2;\n",
              "      height: 32px;\n",
              "      padding: 0 0 0 0;\n",
              "      width: 32px;\n",
              "    }\n",
              "\n",
              "    .colab-df-convert:hover {\n",
              "      background-color: #E2EBFA;\n",
              "      box-shadow: 0px 1px 2px rgba(60, 64, 67, 0.3), 0px 1px 3px 1px rgba(60, 64, 67, 0.15);\n",
              "      fill: #174EA6;\n",
              "    }\n",
              "\n",
              "    [theme=dark] .colab-df-convert {\n",
              "      background-color: #3B4455;\n",
              "      fill: #D2E3FC;\n",
              "    }\n",
              "\n",
              "    [theme=dark] .colab-df-convert:hover {\n",
              "      background-color: #434B5C;\n",
              "      box-shadow: 0px 1px 3px 1px rgba(0, 0, 0, 0.15);\n",
              "      filter: drop-shadow(0px 1px 2px rgba(0, 0, 0, 0.3));\n",
              "      fill: #FFFFFF;\n",
              "    }\n",
              "  </style>\n",
              "\n",
              "      <script>\n",
              "        const buttonEl =\n",
              "          document.querySelector('#df-b08fcd04-4077-41ec-bd33-9fd8efb21147 button.colab-df-convert');\n",
              "        buttonEl.style.display =\n",
              "          google.colab.kernel.accessAllowed ? 'block' : 'none';\n",
              "\n",
              "        async function convertToInteractive(key) {\n",
              "          const element = document.querySelector('#df-b08fcd04-4077-41ec-bd33-9fd8efb21147');\n",
              "          const dataTable =\n",
              "            await google.colab.kernel.invokeFunction('convertToInteractive',\n",
              "                                                     [key], {});\n",
              "          if (!dataTable) return;\n",
              "\n",
              "          const docLinkHtml = 'Like what you see? Visit the ' +\n",
              "            '<a target=\"_blank\" href=https://colab.research.google.com/notebooks/data_table.ipynb>data table notebook</a>'\n",
              "            + ' to learn more about interactive tables.';\n",
              "          element.innerHTML = '';\n",
              "          dataTable['output_type'] = 'display_data';\n",
              "          await google.colab.output.renderOutput(dataTable, element);\n",
              "          const docLink = document.createElement('div');\n",
              "          docLink.innerHTML = docLinkHtml;\n",
              "          element.appendChild(docLink);\n",
              "        }\n",
              "      </script>\n",
              "    </div>\n",
              "  </div>\n",
              "  "
            ]
          },
          "metadata": {},
          "execution_count": 85
        }
      ]
    },
    {
      "cell_type": "code",
      "source": [
        "city_users = data_pred[[\"city\", \"id_user\"]].groupby(by=[\"city\"]).count()\n",
        "city_users"
      ],
      "metadata": {
        "colab": {
          "base_uri": "https://localhost:8080/",
          "height": 237
        },
        "id": "IHUi8uVRJtmQ",
        "outputId": "ca67162d-4d12-4e0b-b58e-86d2a5d77a04"
      },
      "execution_count": null,
      "outputs": [
        {
          "output_type": "execute_result",
          "data": {
            "text/plain": [
              "                 id_user\n",
              "city                    \n",
              "Москва              5315\n",
              "Рязань              7730\n",
              "Санкт-Петербург     4892\n",
              "Тула                2512\n",
              "Ярославь            5257"
            ],
            "text/html": [
              "\n",
              "  <div id=\"df-680d5d00-220d-4059-9618-7a70563630dd\">\n",
              "    <div class=\"colab-df-container\">\n",
              "      <div>\n",
              "<style scoped>\n",
              "    .dataframe tbody tr th:only-of-type {\n",
              "        vertical-align: middle;\n",
              "    }\n",
              "\n",
              "    .dataframe tbody tr th {\n",
              "        vertical-align: top;\n",
              "    }\n",
              "\n",
              "    .dataframe thead th {\n",
              "        text-align: right;\n",
              "    }\n",
              "</style>\n",
              "<table border=\"1\" class=\"dataframe\">\n",
              "  <thead>\n",
              "    <tr style=\"text-align: right;\">\n",
              "      <th></th>\n",
              "      <th>id_user</th>\n",
              "    </tr>\n",
              "    <tr>\n",
              "      <th>city</th>\n",
              "      <th></th>\n",
              "    </tr>\n",
              "  </thead>\n",
              "  <tbody>\n",
              "    <tr>\n",
              "      <th>Москва</th>\n",
              "      <td>5315</td>\n",
              "    </tr>\n",
              "    <tr>\n",
              "      <th>Рязань</th>\n",
              "      <td>7730</td>\n",
              "    </tr>\n",
              "    <tr>\n",
              "      <th>Санкт-Петербург</th>\n",
              "      <td>4892</td>\n",
              "    </tr>\n",
              "    <tr>\n",
              "      <th>Тула</th>\n",
              "      <td>2512</td>\n",
              "    </tr>\n",
              "    <tr>\n",
              "      <th>Ярославь</th>\n",
              "      <td>5257</td>\n",
              "    </tr>\n",
              "  </tbody>\n",
              "</table>\n",
              "</div>\n",
              "      <button class=\"colab-df-convert\" onclick=\"convertToInteractive('df-680d5d00-220d-4059-9618-7a70563630dd')\"\n",
              "              title=\"Convert this dataframe to an interactive table.\"\n",
              "              style=\"display:none;\">\n",
              "        \n",
              "  <svg xmlns=\"http://www.w3.org/2000/svg\" height=\"24px\"viewBox=\"0 0 24 24\"\n",
              "       width=\"24px\">\n",
              "    <path d=\"M0 0h24v24H0V0z\" fill=\"none\"/>\n",
              "    <path d=\"M18.56 5.44l.94 2.06.94-2.06 2.06-.94-2.06-.94-.94-2.06-.94 2.06-2.06.94zm-11 1L8.5 8.5l.94-2.06 2.06-.94-2.06-.94L8.5 2.5l-.94 2.06-2.06.94zm10 10l.94 2.06.94-2.06 2.06-.94-2.06-.94-.94-2.06-.94 2.06-2.06.94z\"/><path d=\"M17.41 7.96l-1.37-1.37c-.4-.4-.92-.59-1.43-.59-.52 0-1.04.2-1.43.59L10.3 9.45l-7.72 7.72c-.78.78-.78 2.05 0 2.83L4 21.41c.39.39.9.59 1.41.59.51 0 1.02-.2 1.41-.59l7.78-7.78 2.81-2.81c.8-.78.8-2.07 0-2.86zM5.41 20L4 18.59l7.72-7.72 1.47 1.35L5.41 20z\"/>\n",
              "  </svg>\n",
              "      </button>\n",
              "      \n",
              "  <style>\n",
              "    .colab-df-container {\n",
              "      display:flex;\n",
              "      flex-wrap:wrap;\n",
              "      gap: 12px;\n",
              "    }\n",
              "\n",
              "    .colab-df-convert {\n",
              "      background-color: #E8F0FE;\n",
              "      border: none;\n",
              "      border-radius: 50%;\n",
              "      cursor: pointer;\n",
              "      display: none;\n",
              "      fill: #1967D2;\n",
              "      height: 32px;\n",
              "      padding: 0 0 0 0;\n",
              "      width: 32px;\n",
              "    }\n",
              "\n",
              "    .colab-df-convert:hover {\n",
              "      background-color: #E2EBFA;\n",
              "      box-shadow: 0px 1px 2px rgba(60, 64, 67, 0.3), 0px 1px 3px 1px rgba(60, 64, 67, 0.15);\n",
              "      fill: #174EA6;\n",
              "    }\n",
              "\n",
              "    [theme=dark] .colab-df-convert {\n",
              "      background-color: #3B4455;\n",
              "      fill: #D2E3FC;\n",
              "    }\n",
              "\n",
              "    [theme=dark] .colab-df-convert:hover {\n",
              "      background-color: #434B5C;\n",
              "      box-shadow: 0px 1px 3px 1px rgba(0, 0, 0, 0.15);\n",
              "      filter: drop-shadow(0px 1px 2px rgba(0, 0, 0, 0.3));\n",
              "      fill: #FFFFFF;\n",
              "    }\n",
              "  </style>\n",
              "\n",
              "      <script>\n",
              "        const buttonEl =\n",
              "          document.querySelector('#df-680d5d00-220d-4059-9618-7a70563630dd button.colab-df-convert');\n",
              "        buttonEl.style.display =\n",
              "          google.colab.kernel.accessAllowed ? 'block' : 'none';\n",
              "\n",
              "        async function convertToInteractive(key) {\n",
              "          const element = document.querySelector('#df-680d5d00-220d-4059-9618-7a70563630dd');\n",
              "          const dataTable =\n",
              "            await google.colab.kernel.invokeFunction('convertToInteractive',\n",
              "                                                     [key], {});\n",
              "          if (!dataTable) return;\n",
              "\n",
              "          const docLinkHtml = 'Like what you see? Visit the ' +\n",
              "            '<a target=\"_blank\" href=https://colab.research.google.com/notebooks/data_table.ipynb>data table notebook</a>'\n",
              "            + ' to learn more about interactive tables.';\n",
              "          element.innerHTML = '';\n",
              "          dataTable['output_type'] = 'display_data';\n",
              "          await google.colab.output.renderOutput(dataTable, element);\n",
              "          const docLink = document.createElement('div');\n",
              "          docLink.innerHTML = docLinkHtml;\n",
              "          element.appendChild(docLink);\n",
              "        }\n",
              "      </script>\n",
              "    </div>\n",
              "  </div>\n",
              "  "
            ]
          },
          "metadata": {},
          "execution_count": 86
        }
      ]
    },
    {
      "cell_type": "markdown",
      "source": [
        "Видим, что распределение пользователей и платежей по локациям достаточно однородно, поэтому будем всех пользователей использовать для рассчета времени АВ теста.\n",
        "\n",
        "Найдем для пользователей дату первой рекомендации и рассчитаем дату окончания первой недели после нее"
      ],
      "metadata": {
        "id": "yCvty8cRDL6q"
      }
    },
    {
      "cell_type": "code",
      "source": [
        "import datetime\n",
        "\n",
        "first_week_payment_user = data_pred[[\"id_user\", \"sum_payment\", \"date\"]].groupby(by=[\"id_user\"]).min()\n",
        "first_week_payment_user[\"first_week_end\"] = first_week_payment_user[\"date\"] + datetime.timedelta(days=7)\n",
        "first_week_payment_user"
      ],
      "metadata": {
        "colab": {
          "base_uri": "https://localhost:8080/",
          "height": 455
        },
        "id": "WM7uu7PONZ4J",
        "outputId": "47aa9e22-c24d-40e7-a962-b35ac7574a95"
      },
      "execution_count": null,
      "outputs": [
        {
          "output_type": "execute_result",
          "data": {
            "text/plain": [
              "           sum_payment       date first_week_end\n",
              "id_user                                         \n",
              "user_0               0 2023-04-13     2023-04-20\n",
              "user_1               0 2023-04-30     2023-05-07\n",
              "user_10              0 2023-04-27     2023-05-04\n",
              "user_100             0 2023-04-17     2023-04-24\n",
              "user_1000            0 2023-04-23     2023-04-30\n",
              "...                ...        ...            ...\n",
              "user_9995           11 2023-04-29     2023-05-06\n",
              "user_9996            0 2023-04-27     2023-05-04\n",
              "user_9997           20 2023-04-30     2023-05-07\n",
              "user_9998            0 2023-04-29     2023-05-06\n",
              "user_9999            0 2023-04-25     2023-05-02\n",
              "\n",
              "[9988 rows x 3 columns]"
            ],
            "text/html": [
              "\n",
              "  <div id=\"df-97ebc668-21bd-43a7-9abc-eea52babca61\">\n",
              "    <div class=\"colab-df-container\">\n",
              "      <div>\n",
              "<style scoped>\n",
              "    .dataframe tbody tr th:only-of-type {\n",
              "        vertical-align: middle;\n",
              "    }\n",
              "\n",
              "    .dataframe tbody tr th {\n",
              "        vertical-align: top;\n",
              "    }\n",
              "\n",
              "    .dataframe thead th {\n",
              "        text-align: right;\n",
              "    }\n",
              "</style>\n",
              "<table border=\"1\" class=\"dataframe\">\n",
              "  <thead>\n",
              "    <tr style=\"text-align: right;\">\n",
              "      <th></th>\n",
              "      <th>sum_payment</th>\n",
              "      <th>date</th>\n",
              "      <th>first_week_end</th>\n",
              "    </tr>\n",
              "    <tr>\n",
              "      <th>id_user</th>\n",
              "      <th></th>\n",
              "      <th></th>\n",
              "      <th></th>\n",
              "    </tr>\n",
              "  </thead>\n",
              "  <tbody>\n",
              "    <tr>\n",
              "      <th>user_0</th>\n",
              "      <td>0</td>\n",
              "      <td>2023-04-13</td>\n",
              "      <td>2023-04-20</td>\n",
              "    </tr>\n",
              "    <tr>\n",
              "      <th>user_1</th>\n",
              "      <td>0</td>\n",
              "      <td>2023-04-30</td>\n",
              "      <td>2023-05-07</td>\n",
              "    </tr>\n",
              "    <tr>\n",
              "      <th>user_10</th>\n",
              "      <td>0</td>\n",
              "      <td>2023-04-27</td>\n",
              "      <td>2023-05-04</td>\n",
              "    </tr>\n",
              "    <tr>\n",
              "      <th>user_100</th>\n",
              "      <td>0</td>\n",
              "      <td>2023-04-17</td>\n",
              "      <td>2023-04-24</td>\n",
              "    </tr>\n",
              "    <tr>\n",
              "      <th>user_1000</th>\n",
              "      <td>0</td>\n",
              "      <td>2023-04-23</td>\n",
              "      <td>2023-04-30</td>\n",
              "    </tr>\n",
              "    <tr>\n",
              "      <th>...</th>\n",
              "      <td>...</td>\n",
              "      <td>...</td>\n",
              "      <td>...</td>\n",
              "    </tr>\n",
              "    <tr>\n",
              "      <th>user_9995</th>\n",
              "      <td>11</td>\n",
              "      <td>2023-04-29</td>\n",
              "      <td>2023-05-06</td>\n",
              "    </tr>\n",
              "    <tr>\n",
              "      <th>user_9996</th>\n",
              "      <td>0</td>\n",
              "      <td>2023-04-27</td>\n",
              "      <td>2023-05-04</td>\n",
              "    </tr>\n",
              "    <tr>\n",
              "      <th>user_9997</th>\n",
              "      <td>20</td>\n",
              "      <td>2023-04-30</td>\n",
              "      <td>2023-05-07</td>\n",
              "    </tr>\n",
              "    <tr>\n",
              "      <th>user_9998</th>\n",
              "      <td>0</td>\n",
              "      <td>2023-04-29</td>\n",
              "      <td>2023-05-06</td>\n",
              "    </tr>\n",
              "    <tr>\n",
              "      <th>user_9999</th>\n",
              "      <td>0</td>\n",
              "      <td>2023-04-25</td>\n",
              "      <td>2023-05-02</td>\n",
              "    </tr>\n",
              "  </tbody>\n",
              "</table>\n",
              "<p>9988 rows × 3 columns</p>\n",
              "</div>\n",
              "      <button class=\"colab-df-convert\" onclick=\"convertToInteractive('df-97ebc668-21bd-43a7-9abc-eea52babca61')\"\n",
              "              title=\"Convert this dataframe to an interactive table.\"\n",
              "              style=\"display:none;\">\n",
              "        \n",
              "  <svg xmlns=\"http://www.w3.org/2000/svg\" height=\"24px\"viewBox=\"0 0 24 24\"\n",
              "       width=\"24px\">\n",
              "    <path d=\"M0 0h24v24H0V0z\" fill=\"none\"/>\n",
              "    <path d=\"M18.56 5.44l.94 2.06.94-2.06 2.06-.94-2.06-.94-.94-2.06-.94 2.06-2.06.94zm-11 1L8.5 8.5l.94-2.06 2.06-.94-2.06-.94L8.5 2.5l-.94 2.06-2.06.94zm10 10l.94 2.06.94-2.06 2.06-.94-2.06-.94-.94-2.06-.94 2.06-2.06.94z\"/><path d=\"M17.41 7.96l-1.37-1.37c-.4-.4-.92-.59-1.43-.59-.52 0-1.04.2-1.43.59L10.3 9.45l-7.72 7.72c-.78.78-.78 2.05 0 2.83L4 21.41c.39.39.9.59 1.41.59.51 0 1.02-.2 1.41-.59l7.78-7.78 2.81-2.81c.8-.78.8-2.07 0-2.86zM5.41 20L4 18.59l7.72-7.72 1.47 1.35L5.41 20z\"/>\n",
              "  </svg>\n",
              "      </button>\n",
              "      \n",
              "  <style>\n",
              "    .colab-df-container {\n",
              "      display:flex;\n",
              "      flex-wrap:wrap;\n",
              "      gap: 12px;\n",
              "    }\n",
              "\n",
              "    .colab-df-convert {\n",
              "      background-color: #E8F0FE;\n",
              "      border: none;\n",
              "      border-radius: 50%;\n",
              "      cursor: pointer;\n",
              "      display: none;\n",
              "      fill: #1967D2;\n",
              "      height: 32px;\n",
              "      padding: 0 0 0 0;\n",
              "      width: 32px;\n",
              "    }\n",
              "\n",
              "    .colab-df-convert:hover {\n",
              "      background-color: #E2EBFA;\n",
              "      box-shadow: 0px 1px 2px rgba(60, 64, 67, 0.3), 0px 1px 3px 1px rgba(60, 64, 67, 0.15);\n",
              "      fill: #174EA6;\n",
              "    }\n",
              "\n",
              "    [theme=dark] .colab-df-convert {\n",
              "      background-color: #3B4455;\n",
              "      fill: #D2E3FC;\n",
              "    }\n",
              "\n",
              "    [theme=dark] .colab-df-convert:hover {\n",
              "      background-color: #434B5C;\n",
              "      box-shadow: 0px 1px 3px 1px rgba(0, 0, 0, 0.15);\n",
              "      filter: drop-shadow(0px 1px 2px rgba(0, 0, 0, 0.3));\n",
              "      fill: #FFFFFF;\n",
              "    }\n",
              "  </style>\n",
              "\n",
              "      <script>\n",
              "        const buttonEl =\n",
              "          document.querySelector('#df-97ebc668-21bd-43a7-9abc-eea52babca61 button.colab-df-convert');\n",
              "        buttonEl.style.display =\n",
              "          google.colab.kernel.accessAllowed ? 'block' : 'none';\n",
              "\n",
              "        async function convertToInteractive(key) {\n",
              "          const element = document.querySelector('#df-97ebc668-21bd-43a7-9abc-eea52babca61');\n",
              "          const dataTable =\n",
              "            await google.colab.kernel.invokeFunction('convertToInteractive',\n",
              "                                                     [key], {});\n",
              "          if (!dataTable) return;\n",
              "\n",
              "          const docLinkHtml = 'Like what you see? Visit the ' +\n",
              "            '<a target=\"_blank\" href=https://colab.research.google.com/notebooks/data_table.ipynb>data table notebook</a>'\n",
              "            + ' to learn more about interactive tables.';\n",
              "          element.innerHTML = '';\n",
              "          dataTable['output_type'] = 'display_data';\n",
              "          await google.colab.output.renderOutput(dataTable, element);\n",
              "          const docLink = document.createElement('div');\n",
              "          docLink.innerHTML = docLinkHtml;\n",
              "          element.appendChild(docLink);\n",
              "        }\n",
              "      </script>\n",
              "    </div>\n",
              "  </div>\n",
              "  "
            ]
          },
          "metadata": {},
          "execution_count": 6
        }
      ]
    },
    {
      "cell_type": "markdown",
      "source": [
        "Найдем средний недельный платеж и его дисперсию"
      ],
      "metadata": {
        "id": "Y_8OavAaDoSH"
      }
    },
    {
      "cell_type": "code",
      "source": [
        "week_payments = []\n",
        "for user_id in first_week_payment_user.index:\n",
        "  week_payments.append(data_pred[(data_pred.id_user==user_id) & (data_pred.date<=first_week_payment_user.loc[user_id].first_week_end)].sum_payment.sum())\n",
        "\n",
        "print(f\"Avrage week user payment is {np.mean(week_payments)}, week payment standard deviation {np.std(week_payments)}\")"
      ],
      "metadata": {
        "colab": {
          "base_uri": "https://localhost:8080/"
        },
        "id": "r3CTegsLPJJR",
        "outputId": "a17b5f23-e3a4-4e91-f7eb-780d49d910f0"
      },
      "execution_count": null,
      "outputs": [
        {
          "output_type": "stream",
          "name": "stdout",
          "text": [
            "Avrage week user payment is 11.069383259911895, week payment standard deviation 16.794283232077014\n"
          ]
        }
      ]
    },
    {
      "cell_type": "markdown",
      "source": [
        "Рассчитаем время AB теста. Выше мы проверили, что контрольная и тестовая группы одинакового размера."
      ],
      "metadata": {
        "id": "_zI1RF8rDvcI"
      }
    },
    {
      "cell_type": "code",
      "source": [
        "import scipy.stats as sps\n",
        "\n",
        "def test_time(k, effect, sigma_1, sigma_2, alpha=0.05, beta=0.2):\n",
        "  z = sps.norm.ppf(1 - alpha / 2) + sps.norm.ppf(1 - beta)\n",
        "  n = (k + 1) * z ** 2 * (sigma_1 ** 2 + sigma_2 ** 2 / k) / (effect ** 2)\n",
        "  return n\n",
        "\n",
        "mean_payment = np.mean(week_payments)\n",
        "std_payment = np.std(week_payments)\n",
        "test_duration = test_time(k=1, effect=0.1 * mean_payment, sigma_1=std_payment, sigma_2=std_payment, alpha=0.05, beta=0.2)\n",
        "print(\"Test duration: \", round(test_duration))\n"
      ],
      "metadata": {
        "colab": {
          "base_uri": "https://localhost:8080/"
        },
        "id": "aMqXkjrxB9EE",
        "outputId": "e746a2a9-4655-44de-8b71-02bcf430fc0b"
      },
      "execution_count": null,
      "outputs": [
        {
          "output_type": "stream",
          "name": "stdout",
          "text": [
            "Test duration:  7227\n"
          ]
        }
      ]
    },
    {
      "cell_type": "markdown",
      "source": [
        "Таким образом нам нужно взять выборки из 3614 пользователей, которые совершили покупку в течение недели после первой рекомендации  в каждой тестовой группе.\n",
        "\n",
        "Для расчета целевой метрики по тестовой и контрольной выборкам за период с 1/05/2023 по 1/06/2023, сгрупируем данные по пользователям и найдем для пользователей дату первой рекомендации и рассчитаем дату окончания первой недели после нее.\n",
        "\n",
        "После этого отберем первые по порядку 3614 дат окончания первой недели после рекомендации и узнаем сколько времени должен был проводиться тест на самом деле"
      ],
      "metadata": {
        "id": "tbEBXb5JGKtb"
      }
    },
    {
      "cell_type": "code",
      "source": [
        "import datetime\n",
        "\n",
        "first_week_payment_A = data_post[data_post.group == \"A\"][[\"id_user\", \"sum_payment\", \"date\"]].groupby(by=[\"id_user\"]).min()\n",
        "first_week_payment_A[\"first_week_end\"] = first_week_payment_A[\"date\"] + datetime.timedelta(days=7)\n",
        "print(\"Test end date for group A\", sorted(first_week_payment_A.first_week_end)[3614])\n",
        "\n",
        "first_week_payment_B = data_post[data_post.group == \"B\"][[\"id_user\", \"sum_payment\", \"date\"]].groupby(by=[\"id_user\"]).min()\n",
        "first_week_payment_B[\"first_week_end\"] = first_week_payment_B[\"date\"] + datetime.timedelta(days=7)\n",
        "print(\"Test end date for group B\", sorted(first_week_payment_A.first_week_end)[3614])\n",
        "\n"
      ],
      "metadata": {
        "colab": {
          "base_uri": "https://localhost:8080/"
        },
        "id": "Ov2ND41VB_yV",
        "outputId": "10607057-f17f-4bec-a316-7f50f17e1167"
      },
      "execution_count": null,
      "outputs": [
        {
          "output_type": "stream",
          "name": "stdout",
          "text": [
            "Test end date for group A 2023-06-01 00:00:00\n",
            "Test end date for group B 2023-06-01 00:00:00\n"
          ]
        }
      ]
    },
    {
      "cell_type": "markdown",
      "source": [
        "Получаем, что тестирование должно проводиться ровно месяц до 1 июня\n",
        "\n",
        "\n",
        "##2.Построить методику расчета целевой метрики.\n",
        "\n",
        "Рассчитать целевую метрику на день окончания теста (рассчитанной в п1) для группы A и B, рассчитать эффект, p_value. Посмотреть, есть ли выбросы в данных.\n",
        "\n",
        "Мы уже подготовили данные для теста. Найдем выборки для платежа пользователей в первую неделю после первой рекомендации"
      ],
      "metadata": {
        "id": "8ZXXeZUqrkEi"
      }
    },
    {
      "cell_type": "code",
      "source": [
        "first_week_payment_A[\"sum_payment\"] = data_post[data_post.group == \"A\"][[\"id_user\", \"sum_payment\"]].groupby(by=[\"id_user\"]).sum()\n",
        "\n",
        "first_week_payment_B[\"sum_payment\"] = data_post[data_post.group == \"B\"][[\"id_user\", \"sum_payment\"]].groupby(by=[\"id_user\"]).sum()\n",
        "\n"
      ],
      "metadata": {
        "id": "JvvhbbGFtB2y"
      },
      "execution_count": null,
      "outputs": []
    },
    {
      "cell_type": "code",
      "source": [
        "x_a = list(first_week_payment_A.sum_payment.iloc[:3614])\n",
        "x_b = list(first_week_payment_B.sum_payment.iloc[:3614])\n",
        "\n",
        "efect = (np.mean(x_b) - np.mean(x_a)) / np.mean(x_a)\n",
        "p_value = sps.ttest_ind(x_a, x_b, equal_var=True).pvalue\n",
        "print(f\"Effect value: {efect}, p-value:{p_value}\")\n"
      ],
      "metadata": {
        "colab": {
          "base_uri": "https://localhost:8080/"
        },
        "id": "m3ZXzVfpreWg",
        "outputId": "1afe5f7e-8bd0-4510-aa5e-540b1065e84d"
      },
      "execution_count": null,
      "outputs": [
        {
          "output_type": "stream",
          "name": "stdout",
          "text": [
            "Effect value: 0.07928234390431253, p-value:0.01822035501077125\n"
          ]
        }
      ]
    },
    {
      "cell_type": "markdown",
      "source": [
        "Получили средний эффект 8%, хотя хотели получить 10%.\n",
        "\n",
        "p-value = 0,018 < 0.05, поэтому можем сказать, что изменения в системе рекоммендаций дают значимый эффект на уровне 8% повышения выручки от пользователей в первую неделю от просмотра новых рекомендаций.\n",
        "\n",
        "Проверим наличие выбросов:"
      ],
      "metadata": {
        "id": "AlRGdePquVof"
      }
    },
    {
      "cell_type": "code",
      "source": [
        "df_a = pd.Series(x_a)\n",
        "print(\"Number of outliers is \", df_a[df_a > df_a.mean() + 3* df_a.std()].shape[0])\n",
        "df_a.describe()"
      ],
      "metadata": {
        "colab": {
          "base_uri": "https://localhost:8080/"
        },
        "id": "Kl1TsSIUv3g6",
        "outputId": "72e64a2a-2a36-4598-9c45-c92e5787bb76"
      },
      "execution_count": null,
      "outputs": [
        {
          "output_type": "stream",
          "name": "stdout",
          "text": [
            "Number of outliers is  61\n"
          ]
        },
        {
          "output_type": "execute_result",
          "data": {
            "text/plain": [
              "count    3614.000000\n",
              "mean       15.129496\n",
              "std        20.688237\n",
              "min         0.000000\n",
              "25%         0.000000\n",
              "50%        11.000000\n",
              "75%        26.000000\n",
              "max       203.000000\n",
              "dtype: float64"
            ]
          },
          "metadata": {},
          "execution_count": 151
        }
      ]
    },
    {
      "cell_type": "code",
      "source": [
        "pd.Series(x_a).hist()"
      ],
      "metadata": {
        "colab": {
          "base_uri": "https://localhost:8080/",
          "height": 447
        },
        "id": "H54s3DOktYjC",
        "outputId": "18a68a50-3273-44e2-aee7-34a1e052b93a"
      },
      "execution_count": null,
      "outputs": [
        {
          "output_type": "execute_result",
          "data": {
            "text/plain": [
              "<Axes: >"
            ]
          },
          "metadata": {},
          "execution_count": 144
        },
        {
          "output_type": "display_data",
          "data": {
            "text/plain": [
              "<Figure size 640x480 with 1 Axes>"
            ],
            "image/png": "[encoded data removed]"
          },
          "metadata": {}
        }
      ]
    },
    {
      "cell_type": "code",
      "source": [
        "df_b = pd.Series(x_b)\n",
        "print(\"Number of outliers is \", df_b[df_b > df_b.mean() + 3* df_b.std()].shape[0])\n",
        "df_b.describe()"
      ],
      "metadata": {
        "colab": {
          "base_uri": "https://localhost:8080/"
        },
        "id": "AxDTlaTKv8rV",
        "outputId": "f5a90442-b6ea-40f7-f89e-0286b9565d1b"
      },
      "execution_count": null,
      "outputs": [
        {
          "output_type": "stream",
          "name": "stdout",
          "text": [
            "Number of outliers is  60\n"
          ]
        },
        {
          "output_type": "execute_result",
          "data": {
            "text/plain": [
              "count    3614.000000\n",
              "mean       16.328998\n",
              "std        22.456772\n",
              "min         0.000000\n",
              "25%         0.000000\n",
              "50%        11.000000\n",
              "75%        28.000000\n",
              "max       218.000000\n",
              "dtype: float64"
            ]
          },
          "metadata": {},
          "execution_count": 150
        }
      ]
    },
    {
      "cell_type": "code",
      "source": [
        "pd.Series(x_b).hist()\n"
      ],
      "metadata": {
        "colab": {
          "base_uri": "https://localhost:8080/",
          "height": 447
        },
        "id": "V9pJrBfqvvSH",
        "outputId": "b1f5df17-952c-45c3-d3a9-b61fc53e7a2d"
      },
      "execution_count": null,
      "outputs": [
        {
          "output_type": "execute_result",
          "data": {
            "text/plain": [
              "<Axes: >"
            ]
          },
          "metadata": {},
          "execution_count": 145
        },
        {
          "output_type": "display_data",
          "data": {
            "text/plain": [
              "<Figure size 640x480 with 1 Axes>"
            ],
            "image/png": "[encoded data removed]"
          },
          "metadata": {}
        }
      ]
    },
    {
      "cell_type": "markdown",
      "source": [
        "Видим, что в обеих группах присутствует небольшое число выбросов.\n",
        "\n",
        "Проверим критерий для данных без выбросов:"
      ],
      "metadata": {
        "id": "3CKxTVWB6ijC"
      }
    },
    {
      "cell_type": "code",
      "source": [
        "A_payments_no_outliers = first_week_payment_A[first_week_payment_A.sum_payment < first_week_payment_A.sum_payment.mean() + 3 * first_week_payment_A.sum_payment.std()]\n",
        "B_payments_no_outliers = first_week_payment_B[first_week_payment_B.sum_payment < first_week_payment_B.sum_payment.mean() + 3 * first_week_payment_B.sum_payment.std()]\n",
        "\n",
        "test_size = min(3614, A_payments_no_outliers.shape[0], B_payments_no_outliers.shape[0])\n",
        "print(\"Test size =\", test_size)\n",
        "\n",
        "x_a = list(A_payments_no_outliers.sum_payment.iloc[:test_size])\n",
        "x_b = list(B_payments_no_outliers.sum_payment.iloc[:test_size])\n",
        "\n",
        "efect = (np.mean(x_b) - np.mean(x_a)) / np.mean(x_a)\n",
        "p_value = sps.ttest_ind(x_a, x_b, equal_var=True).pvalue\n",
        "print(f\"Effect value: {efect}, p-value:{p_value}\")\n"
      ],
      "metadata": {
        "colab": {
          "base_uri": "https://localhost:8080/"
        },
        "id": "iq53g8h_vnV7",
        "outputId": "e3caded8-b4b7-4b64-a1ee-90422678d9f6"
      },
      "execution_count": null,
      "outputs": [
        {
          "output_type": "stream",
          "name": "stdout",
          "text": [
            "Test size = 3614\n",
            "Effect value: 0.06891237340378695, p-value:0.027189777610599652\n"
          ]
        }
      ]
    },
    {
      "cell_type": "markdown",
      "source": [
        "Эффект уменьшился, но достоверность осталась примерно на том же уровне. Поэтому гипотеза о том, что новые рекомендации дают эффект принимается."
      ],
      "metadata": {
        "id": "UcEHBvVeE6Sc"
      }
    },
    {
      "cell_type": "markdown",
      "source": [
        "##3. Рассчитать метрики из п2 по дням и построить их графики. Принять решение о результате теста - обосновать.\n"
      ],
      "metadata": {
        "id": "amJFLFTn7o3m"
      }
    },
    {
      "cell_type": "code",
      "source": [
        "days = pd.date_range(start='5/1/2023', end='6/1/2023')\n",
        "avr_payments_A = []\n",
        "avr_payments_B = []\n",
        "\n",
        "p_val = []\n",
        "for i in range(days.shape[0]):\n",
        "  payments_by_day_A = A_payments_no_outliers[A_payments_no_outliers.date < days[i]]\n",
        "  payments_by_day_B = B_payments_no_outliers[B_payments_no_outliers.date < days[i]]\n",
        "\n",
        "  avr_payments_A.append(payments_by_day_A.sum_payment.sum() / payments_by_day_A.shape[0])\n",
        "  avr_payments_B.append(payments_by_day_B.sum_payment.sum() / payments_by_day_B.shape[0])\n",
        "\n",
        "  p_val.append(sps.ttest_ind(list(payments_by_day_A.sum_payment), list(payments_by_day_B.sum_payment), equal_var=True).pvalue)\n",
        "\n"
      ],
      "metadata": {
        "id": "9FmNTSlp7iQq"
      },
      "execution_count": null,
      "outputs": []
    },
    {
      "cell_type": "code",
      "source": [
        "import matplotlib.pyplot as plt\n",
        "fig, ax = plt.subplots()\n",
        "\n",
        "plt.plot(days, avr_payments_A, c = \"r\", label=\"avr.payment A\")\n",
        "plt.plot(days, avr_payments_B, c= \"b\", label=\"avr.payment B\")\n",
        "plt.legend()\n",
        "plt.setp(ax.get_xticklabels(), rotation=45, ha=\"right\",\n",
        "         rotation_mode=\"anchor\")\n",
        "\n",
        "plt.show()"
      ],
      "metadata": {
        "colab": {
          "base_uri": "https://localhost:8080/",
          "height": 482
        },
        "id": "hCyAJp7E8K_8",
        "outputId": "6d998c22-c3ef-4a2a-b8f5-fcad22006a6c"
      },
      "execution_count": null,
      "outputs": [
        {
          "output_type": "display_data",
          "data": {
            "text/plain": [
              "<Figure size 640x480 with 1 Axes>"
            ],
            "image/png": "[encoded data removed]"
          },
          "metadata": {}
        }
      ]
    },
    {
      "cell_type": "code",
      "source": [
        "alpha = [0.05 for _ in range(days.shape[0])]\n",
        "fig, ax = plt.subplots()\n",
        "\n",
        "plt.plot(days, p_val, c = \"green\", marker=\"*\", label=\"p-value\")\n",
        "plt.plot(days, alpha, c=\"r\", label=\"alpha\")\n",
        "plt.legend()\n",
        "plt.setp(ax.get_xticklabels(), rotation=45, ha=\"right\",\n",
        "         rotation_mode=\"anchor\")\n",
        "\n",
        "plt.show()"
      ],
      "metadata": {
        "colab": {
          "base_uri": "https://localhost:8080/",
          "height": 482
        },
        "id": "bkrfx9a-9DFu",
        "outputId": "5d56e0bf-b6e9-4415-d3c9-60f675430044"
      },
      "execution_count": null,
      "outputs": [
        {
          "output_type": "display_data",
          "data": {
            "text/plain": [
              "<Figure size 640x480 with 1 Axes>"
            ],
            "image/png": "[encoded data removed]"
          },
          "metadata": {}
        }
      ]
    },
    {
      "cell_type": "markdown",
      "source": [
        "Как видно из графиков средние платежи пользователей действительно выросли по сравнению с контрольной группой. А значение p-value к концу периода тестирования стало меньше заданного уровня значимости 0,05.\n",
        "\n",
        "##Выводы:\n",
        "Новые рекомендации увеличивают целевую метрику, о чем свидетельствует t статистика, поэтому их можно внедрять в продакшн.\n"
      ],
      "metadata": {
        "id": "RKJ_Jx37BVaZ"
      }
    },
    {
      "cell_type": "markdown",
      "source": [
        "#ПОДХОД №2"
      ],
      "metadata": {
        "id": "IFkiBH_TRZj2"
      }
    },
    {
      "cell_type": "markdown",
      "source": [
        "Рассчитаем число пользователей,"
      ],
      "metadata": {
        "id": "sJxgSHnpR35y"
      }
    },
    {
      "cell_type": "code",
      "source": [
        "import datetime\n",
        "\n",
        "first_week_payment_user = data_pred[[\"id_user\", \"sum_payment\", \"date\"]].groupby(by=[\"id_user\"]).min()\n",
        "first_week_payment_user[\"first_week_end\"] = first_week_payment_user[\"date\"] + datetime.timedelta(days=7)\n",
        "first_week_payment_user"
      ],
      "metadata": {
        "colab": {
          "base_uri": "https://localhost:8080/",
          "height": 455
        },
        "outputId": "aacb4c00-aaeb-4835-a428-c8c53fb673b7",
        "id": "1TBduvIzRXhy"
      },
      "execution_count": 6,
      "outputs": [
        {
          "output_type": "execute_result",
          "data": {
            "text/plain": [
              "           sum_payment       date first_week_end\n",
              "id_user                                         \n",
              "user_0               0 2023-04-13     2023-04-20\n",
              "user_1               0 2023-04-30     2023-05-07\n",
              "user_10              0 2023-04-27     2023-05-04\n",
              "user_100             0 2023-04-17     2023-04-24\n",
              "user_1000            0 2023-04-23     2023-04-30\n",
              "...                ...        ...            ...\n",
              "user_9995           11 2023-04-29     2023-05-06\n",
              "user_9996            0 2023-04-27     2023-05-04\n",
              "user_9997           20 2023-04-30     2023-05-07\n",
              "user_9998            0 2023-04-29     2023-05-06\n",
              "user_9999            0 2023-04-25     2023-05-02\n",
              "\n",
              "[9988 rows x 3 columns]"
            ],
            "text/html": [
              "\n",
              "  <div id=\"df-0635c8bc-c8de-41fd-94e9-36ff6bea18f2\">\n",
              "    <div class=\"colab-df-container\">\n",
              "      <div>\n",
              "<style scoped>\n",
              "    .dataframe tbody tr th:only-of-type {\n",
              "        vertical-align: middle;\n",
              "    }\n",
              "\n",
              "    .dataframe tbody tr th {\n",
              "        vertical-align: top;\n",
              "    }\n",
              "\n",
              "    .dataframe thead th {\n",
              "        text-align: right;\n",
              "    }\n",
              "</style>\n",
              "<table border=\"1\" class=\"dataframe\">\n",
              "  <thead>\n",
              "    <tr style=\"text-align: right;\">\n",
              "      <th></th>\n",
              "      <th>sum_payment</th>\n",
              "      <th>date</th>\n",
              "      <th>first_week_end</th>\n",
              "    </tr>\n",
              "    <tr>\n",
              "      <th>id_user</th>\n",
              "      <th></th>\n",
              "      <th></th>\n",
              "      <th></th>\n",
              "    </tr>\n",
              "  </thead>\n",
              "  <tbody>\n",
              "    <tr>\n",
              "      <th>user_0</th>\n",
              "      <td>0</td>\n",
              "      <td>2023-04-13</td>\n",
              "      <td>2023-04-20</td>\n",
              "    </tr>\n",
              "    <tr>\n",
              "      <th>user_1</th>\n",
              "      <td>0</td>\n",
              "      <td>2023-04-30</td>\n",
              "      <td>2023-05-07</td>\n",
              "    </tr>\n",
              "    <tr>\n",
              "      <th>user_10</th>\n",
              "      <td>0</td>\n",
              "      <td>2023-04-27</td>\n",
              "      <td>2023-05-04</td>\n",
              "    </tr>\n",
              "    <tr>\n",
              "      <th>user_100</th>\n",
              "      <td>0</td>\n",
              "      <td>2023-04-17</td>\n",
              "      <td>2023-04-24</td>\n",
              "    </tr>\n",
              "    <tr>\n",
              "      <th>user_1000</th>\n",
              "      <td>0</td>\n",
              "      <td>2023-04-23</td>\n",
              "      <td>2023-04-30</td>\n",
              "    </tr>\n",
              "    <tr>\n",
              "      <th>...</th>\n",
              "      <td>...</td>\n",
              "      <td>...</td>\n",
              "      <td>...</td>\n",
              "    </tr>\n",
              "    <tr>\n",
              "      <th>user_9995</th>\n",
              "      <td>11</td>\n",
              "      <td>2023-04-29</td>\n",
              "      <td>2023-05-06</td>\n",
              "    </tr>\n",
              "    <tr>\n",
              "      <th>user_9996</th>\n",
              "      <td>0</td>\n",
              "      <td>2023-04-27</td>\n",
              "      <td>2023-05-04</td>\n",
              "    </tr>\n",
              "    <tr>\n",
              "      <th>user_9997</th>\n",
              "      <td>20</td>\n",
              "      <td>2023-04-30</td>\n",
              "      <td>2023-05-07</td>\n",
              "    </tr>\n",
              "    <tr>\n",
              "      <th>user_9998</th>\n",
              "      <td>0</td>\n",
              "      <td>2023-04-29</td>\n",
              "      <td>2023-05-06</td>\n",
              "    </tr>\n",
              "    <tr>\n",
              "      <th>user_9999</th>\n",
              "      <td>0</td>\n",
              "      <td>2023-04-25</td>\n",
              "      <td>2023-05-02</td>\n",
              "    </tr>\n",
              "  </tbody>\n",
              "</table>\n",
              "<p>9988 rows × 3 columns</p>\n",
              "</div>\n",
              "      <button class=\"colab-df-convert\" onclick=\"convertToInteractive('df-0635c8bc-c8de-41fd-94e9-36ff6bea18f2')\"\n",
              "              title=\"Convert this dataframe to an interactive table.\"\n",
              "              style=\"display:none;\">\n",
              "        \n",
              "  <svg xmlns=\"http://www.w3.org/2000/svg\" height=\"24px\"viewBox=\"0 0 24 24\"\n",
              "       width=\"24px\">\n",
              "    <path d=\"M0 0h24v24H0V0z\" fill=\"none\"/>\n",
              "    <path d=\"M18.56 5.44l.94 2.06.94-2.06 2.06-.94-2.06-.94-.94-2.06-.94 2.06-2.06.94zm-11 1L8.5 8.5l.94-2.06 2.06-.94-2.06-.94L8.5 2.5l-.94 2.06-2.06.94zm10 10l.94 2.06.94-2.06 2.06-.94-2.06-.94-.94-2.06-.94 2.06-2.06.94z\"/><path d=\"M17.41 7.96l-1.37-1.37c-.4-.4-.92-.59-1.43-.59-.52 0-1.04.2-1.43.59L10.3 9.45l-7.72 7.72c-.78.78-.78 2.05 0 2.83L4 21.41c.39.39.9.59 1.41.59.51 0 1.02-.2 1.41-.59l7.78-7.78 2.81-2.81c.8-.78.8-2.07 0-2.86zM5.41 20L4 18.59l7.72-7.72 1.47 1.35L5.41 20z\"/>\n",
              "  </svg>\n",
              "      </button>\n",
              "      \n",
              "  <style>\n",
              "    .colab-df-container {\n",
              "      display:flex;\n",
              "      flex-wrap:wrap;\n",
              "      gap: 12px;\n",
              "    }\n",
              "\n",
              "    .colab-df-convert {\n",
              "      background-color: #E8F0FE;\n",
              "      border: none;\n",
              "      border-radius: 50%;\n",
              "      cursor: pointer;\n",
              "      display: none;\n",
              "      fill: #1967D2;\n",
              "      height: 32px;\n",
              "      padding: 0 0 0 0;\n",
              "      width: 32px;\n",
              "    }\n",
              "\n",
              "    .colab-df-convert:hover {\n",
              "      background-color: #E2EBFA;\n",
              "      box-shadow: 0px 1px 2px rgba(60, 64, 67, 0.3), 0px 1px 3px 1px rgba(60, 64, 67, 0.15);\n",
              "      fill: #174EA6;\n",
              "    }\n",
              "\n",
              "    [theme=dark] .colab-df-convert {\n",
              "      background-color: #3B4455;\n",
              "      fill: #D2E3FC;\n",
              "    }\n",
              "\n",
              "    [theme=dark] .colab-df-convert:hover {\n",
              "      background-color: #434B5C;\n",
              "      box-shadow: 0px 1px 3px 1px rgba(0, 0, 0, 0.15);\n",
              "      filter: drop-shadow(0px 1px 2px rgba(0, 0, 0, 0.3));\n",
              "      fill: #FFFFFF;\n",
              "    }\n",
              "  </style>\n",
              "\n",
              "      <script>\n",
              "        const buttonEl =\n",
              "          document.querySelector('#df-0635c8bc-c8de-41fd-94e9-36ff6bea18f2 button.colab-df-convert');\n",
              "        buttonEl.style.display =\n",
              "          google.colab.kernel.accessAllowed ? 'block' : 'none';\n",
              "\n",
              "        async function convertToInteractive(key) {\n",
              "          const element = document.querySelector('#df-0635c8bc-c8de-41fd-94e9-36ff6bea18f2');\n",
              "          const dataTable =\n",
              "            await google.colab.kernel.invokeFunction('convertToInteractive',\n",
              "                                                     [key], {});\n",
              "          if (!dataTable) return;\n",
              "\n",
              "          const docLinkHtml = 'Like what you see? Visit the ' +\n",
              "            '<a target=\"_blank\" href=https://colab.research.google.com/notebooks/data_table.ipynb>data table notebook</a>'\n",
              "            + ' to learn more about interactive tables.';\n",
              "          element.innerHTML = '';\n",
              "          dataTable['output_type'] = 'display_data';\n",
              "          await google.colab.output.renderOutput(dataTable, element);\n",
              "          const docLink = document.createElement('div');\n",
              "          docLink.innerHTML = docLinkHtml;\n",
              "          element.appendChild(docLink);\n",
              "        }\n",
              "      </script>\n",
              "    </div>\n",
              "  </div>\n",
              "  "
            ]
          },
          "metadata": {},
          "execution_count": 6
        }
      ]
    },
    {
      "cell_type": "markdown",
      "source": [
        "Найдем средний недельный платеж и его дисперсию"
      ],
      "metadata": {
        "id": "zlzsnnBMRXh3"
      }
    },
    {
      "cell_type": "code",
      "source": [
        "week_payments = []\n",
        "for user_id in first_week_payment_user.index:\n",
        "  week_payments.append(data_pred[(data_pred.id_user==user_id) & (data_pred.date<=first_week_payment_user.loc[user_id].first_week_end)].sum_payment.sum())\n",
        "\n",
        "print(f\"Avrage week user payment is {np.mean(week_payments)}, week payment standard deviation {np.std(week_payments)}\")"
      ],
      "metadata": {
        "colab": {
          "base_uri": "https://localhost:8080/"
        },
        "outputId": "81ae57c4-48ac-4a07-980a-96cdbae4d42b",
        "id": "N4KEcIWeRXh4"
      },
      "execution_count": 7,
      "outputs": [
        {
          "output_type": "stream",
          "name": "stdout",
          "text": [
            "Avrage week user payment is 11.069383259911895, week payment standard deviation 16.794283232077014\n"
          ]
        }
      ]
    },
    {
      "cell_type": "markdown",
      "source": [
        "Рассчитаем время AB теста. Выше мы проверили, что контрольная и тестовая группы одинакового размера."
      ],
      "metadata": {
        "id": "BVJAVGHeRXh5"
      }
    },
    {
      "cell_type": "code",
      "source": [
        "import scipy.stats as sps\n",
        "\n",
        "def test_time(k, effect, sigma_1, sigma_2, alpha=0.05, beta=0.2):\n",
        "  z = sps.norm.ppf(1 - alpha / 2) + sps.norm.ppf(1 - beta)\n",
        "  n = (k + 1) * z ** 2 * (sigma_1 ** 2 + sigma_2 ** 2 / k) / (effect ** 2)\n",
        "  return n\n",
        "\n",
        "mean_payment = np.mean(week_payments)\n",
        "std_payment = np.std(week_payments)\n",
        "test_duration = test_time(k=1, effect=0.1 * mean_payment, sigma_1=std_payment, sigma_2=std_payment, alpha=0.05, beta=0.2)\n",
        "print(\"Test duration: \", round(test_duration))\n"
      ],
      "metadata": {
        "colab": {
          "base_uri": "https://localhost:8080/"
        },
        "outputId": "dc8520a3-3078-43b6-c500-89890d828f77",
        "id": "ZCTCa0d9RXh6"
      },
      "execution_count": 8,
      "outputs": [
        {
          "output_type": "stream",
          "name": "stdout",
          "text": [
            "Test duration:  7227\n"
          ]
        }
      ]
    },
    {
      "cell_type": "markdown",
      "source": [
        "Таким образом нам нужно взять выборки из 3614 пользователей, которые совершили покупку в течение недели после первой рекомендации  в каждой тестовой группе.\n",
        "\n",
        "Для расчета целевой метрики по тестовой и контрольной выборкам за период с 1/05/2023 по 1/06/2023, сгрупируем данные по пользователям и найдем для пользователей дату первой рекомендации и рассчитаем дату окончания первой недели после нее.\n",
        "\n",
        "После этого отберем первые по порядку 3614 дат окончания первой недели после рекомендации и узнаем сколько времени должен был проводиться тест на самом деле"
      ],
      "metadata": {
        "id": "AsctUHOkRXh7"
      }
    },
    {
      "cell_type": "code",
      "source": [
        "import datetime\n",
        "\n",
        "first_week_payment_A = data_post[data_post.group == \"A\"][[\"id_user\", \"sum_payment\", \"date\"]].groupby(by=[\"id_user\"]).min()\n",
        "first_week_payment_A[\"first_week_end\"] = first_week_payment_A[\"date\"] + datetime.timedelta(days=7)\n",
        "print(\"Test end date for group A\", sorted(first_week_payment_A.first_week_end)[3614])\n",
        "\n",
        "first_week_payment_B = data_post[data_post.group == \"B\"][[\"id_user\", \"sum_payment\", \"date\"]].groupby(by=[\"id_user\"]).min()\n",
        "first_week_payment_B[\"first_week_end\"] = first_week_payment_B[\"date\"] + datetime.timedelta(days=7)\n",
        "print(\"Test end date for group B\", sorted(first_week_payment_A.first_week_end)[3614])\n",
        "\n"
      ],
      "metadata": {
        "colab": {
          "base_uri": "https://localhost:8080/"
        },
        "outputId": "f0e88ad1-08e8-4fa1-bdae-d56d651428c4",
        "id": "uit2dqaLRXh8"
      },
      "execution_count": 9,
      "outputs": [
        {
          "output_type": "stream",
          "name": "stdout",
          "text": [
            "Test end date for group A 2023-06-01 00:00:00\n",
            "Test end date for group B 2023-06-01 00:00:00\n"
          ]
        }
      ]
    },
    {
      "cell_type": "markdown",
      "source": [
        "Получаем, что тестирование должно проводиться ровно месяц до 1 июня\n",
        "\n",
        "\n",
        "##2.Построить методику расчета целевой метрики.\n",
        "\n",
        "Рассчитать целевую метрику на день окончания теста (рассчитанной в п1) для группы A и B, рассчитать эффект, p_value. Посмотреть, есть ли выбросы в данных.\n",
        "\n",
        "Мы уже подготовили данные для теста. Найдем выборки для платежа пользователей в первую неделю после первой рекомендации"
      ],
      "metadata": {
        "id": "Xy81Y9-9RXh9"
      }
    },
    {
      "cell_type": "code",
      "source": [
        "one_week_payments_A = []\n",
        "for user in first_week_payment_A.index:\n",
        "  df = data_post[(data_post.group == \"A\")&(data_post.id_user == user)&(data_post.date < first_week_payment_A.loc[user][\"first_week_end\"])]\n",
        "  one_week_payments_A.append(df.sum_payment.sum())\n",
        "\n",
        ""
      ],
      "metadata": {
        "id": "xWFp9iLcRXh_"
      },
      "execution_count": 27,
      "outputs": []
    },
    {
      "cell_type": "code",
      "source": [
        "one_week_payments_B = []\n",
        "for user in first_week_payment_B.index:\n",
        "  df = data_post[(data_post.group == \"B\")&(data_post.id_user == user)&(data_post.date < first_week_payment_B.loc[user][\"first_week_end\"])]\n",
        "  one_week_payments_B.append(df.sum_payment.sum())\n"
      ],
      "metadata": {
        "id": "DGU_Rq_TXNz-"
      },
      "execution_count": 28,
      "outputs": []
    },
    {
      "cell_type": "code",
      "source": [
        "control_payments_A = pd.DataFrame(columns=[\"id_user\", \"sum_payment\"])\n",
        "test_payments_B = pd.DataFrame(columns=[\"id_user\", \"sum_payment\"])\n",
        "control_payments_A[\"id_user\"] = first_week_payment_A.index\n",
        "control_payments_A[\"sum_payment\"] = one_week_payments_A\n",
        "test_payments_B[\"id_user\"] = first_week_payment_B.index\n",
        "test_payments_B[\"sum_payment\"] = one_week_payments_B"
      ],
      "metadata": {
        "id": "-QwrOoT0Xkl1"
      },
      "execution_count": 30,
      "outputs": []
    },
    {
      "cell_type": "code",
      "source": [
        "x_a = list(control_payments_A.sum_payment.iloc[:3614])\n",
        "x_b = list(test_payments_B.sum_payment.iloc[:3614])\n",
        "\n",
        "efect = (np.mean(x_b) - np.mean(x_a)) / np.mean(x_a)\n",
        "p_value = sps.ttest_ind(x_a, x_b, equal_var=True).pvalue\n",
        "print(f\"Effect value: {efect}, p-value:{p_value}\")\n"
      ],
      "metadata": {
        "colab": {
          "base_uri": "https://localhost:8080/"
        },
        "outputId": "252f8204-fa76-4dbc-fd30-58f8679f0b27",
        "id": "7YtzVRFwRXiA"
      },
      "execution_count": 34,
      "outputs": [
        {
          "output_type": "stream",
          "name": "stdout",
          "text": [
            "Effect value: 0.06683249636269772, p-value:0.05960215969429357\n"
          ]
        }
      ]
    },
    {
      "cell_type": "markdown",
      "source": [
        "Получили средний эффект 7%, хотя хотели получить 10%.\n",
        "\n",
        "p-value = 0,06 > 0.05, поэтому можем сказать, что изменения в системе рекоммендаций не дают значимый эффект выручки от пользователей в первую неделю от просмотра новых рекомендаций.\n",
        "\n",
        "Проверим наличие выбросов:"
      ],
      "metadata": {
        "id": "ZJrGxroLRXiB"
      }
    },
    {
      "cell_type": "code",
      "source": [
        "df_a = pd.Series(x_a)\n",
        "print(\"Number of outliers is \", df_a[df_a > df_a.mean() + 3* df_a.std()].shape[0])\n",
        "df_a.describe()"
      ],
      "metadata": {
        "colab": {
          "base_uri": "https://localhost:8080/"
        },
        "outputId": "5e7d768d-9423-4f5e-b4a6-4cd7fe3b8cf3",
        "id": "2X1AJEQRRXiC"
      },
      "execution_count": 35,
      "outputs": [
        {
          "output_type": "stream",
          "name": "stdout",
          "text": [
            "Number of outliers is  67\n"
          ]
        },
        {
          "output_type": "execute_result",
          "data": {
            "text/plain": [
              "count    3614.000000\n",
              "mean       11.791367\n",
              "std        17.586123\n",
              "min         0.000000\n",
              "25%         0.000000\n",
              "50%         0.000000\n",
              "75%        20.000000\n",
              "max       133.000000\n",
              "dtype: float64"
            ]
          },
          "metadata": {},
          "execution_count": 35
        }
      ]
    },
    {
      "cell_type": "code",
      "source": [
        "pd.Series(x_a).hist()"
      ],
      "metadata": {
        "colab": {
          "base_uri": "https://localhost:8080/",
          "height": 447
        },
        "outputId": "93d3d3e1-7987-46b8-b0b7-4212236943f6",
        "id": "CbFmULiXRXiD"
      },
      "execution_count": 36,
      "outputs": [
        {
          "output_type": "execute_result",
          "data": {
            "text/plain": [
              "<Axes: >"
            ]
          },
          "metadata": {},
          "execution_count": 36
        },
        {
          "output_type": "display_data",
          "data": {
            "text/plain": [
              "<Figure size 640x480 with 1 Axes>"
            ],
            "image/png": "[encoded data removed]"
          },
          "metadata": {}
        }
      ]
    },
    {
      "cell_type": "code",
      "source": [
        "df_b = pd.Series(x_b)\n",
        "print(\"Number of outliers is \", df_b[df_b > df_b.mean() + 3* df_b.std()].shape[0])\n",
        "df_b.describe()"
      ],
      "metadata": {
        "colab": {
          "base_uri": "https://localhost:8080/"
        },
        "outputId": "04981de4-9141-4b64-b1b1-64430b751cb7",
        "id": "vjtho8TBRXiE"
      },
      "execution_count": 37,
      "outputs": [
        {
          "output_type": "stream",
          "name": "stdout",
          "text": [
            "Number of outliers is  58\n"
          ]
        },
        {
          "output_type": "execute_result",
          "data": {
            "text/plain": [
              "count    3614.000000\n",
              "mean       12.579413\n",
              "std        17.972861\n",
              "min         0.000000\n",
              "25%         0.000000\n",
              "50%         0.000000\n",
              "75%        20.000000\n",
              "max       178.000000\n",
              "dtype: float64"
            ]
          },
          "metadata": {},
          "execution_count": 37
        }
      ]
    },
    {
      "cell_type": "code",
      "source": [
        "pd.Series(x_b).hist()\n"
      ],
      "metadata": {
        "colab": {
          "base_uri": "https://localhost:8080/",
          "height": 447
        },
        "outputId": "028e0bcd-d189-4f2e-c210-74051c856295",
        "id": "Omr1PpC_RXiF"
      },
      "execution_count": 38,
      "outputs": [
        {
          "output_type": "execute_result",
          "data": {
            "text/plain": [
              "<Axes: >"
            ]
          },
          "metadata": {},
          "execution_count": 38
        },
        {
          "output_type": "display_data",
          "data": {
            "text/plain": [
              "<Figure size 640x480 with 1 Axes>"
            ],
            "image/png": "[encoded data removed]"
          },
          "metadata": {}
        }
      ]
    },
    {
      "cell_type": "markdown",
      "source": [
        "Видим, что в обеих группах присутствует небольшое число выбросов.\n",
        "\n",
        "Проверим критерий для данных без выбросов:"
      ],
      "metadata": {
        "id": "MWqT4b6cRXiF"
      }
    },
    {
      "cell_type": "code",
      "source": [
        "A_payments_no_outliers = control_payments_A[control_payments_A.sum_payment < control_payments_A.sum_payment.mean() + 3 * control_payments_A.sum_payment.std()]\n",
        "B_payments_no_outliers = test_payments_B[test_payments_B.sum_payment < test_payments_B.sum_payment.mean() + 3 * test_payments_B.sum_payment.std()]\n",
        "\n",
        "test_size = min(3614, A_payments_no_outliers.shape[0], B_payments_no_outliers.shape[0])\n",
        "print(\"Test size =\", test_size)\n",
        "\n",
        "x_a = list(A_payments_no_outliers.sum_payment.iloc[:test_size])\n",
        "x_b = list(B_payments_no_outliers.sum_payment.iloc[:test_size])\n",
        "\n",
        "efect = (np.mean(x_b) - np.mean(x_a)) / np.mean(x_a)\n",
        "p_value = sps.ttest_ind(x_a, x_b, equal_var=True).pvalue\n",
        "print(f\"Effect value: {efect}, p-value:{p_value}\")\n"
      ],
      "metadata": {
        "colab": {
          "base_uri": "https://localhost:8080/"
        },
        "outputId": "3db6b168-959f-4c7e-a44a-103ffdef3618",
        "id": "nb0RFhTpRXiG"
      },
      "execution_count": 39,
      "outputs": [
        {
          "output_type": "stream",
          "name": "stdout",
          "text": [
            "Test size = 3614\n",
            "Effect value: 0.09199157007376185, p-value:0.006749903592168939\n"
          ]
        }
      ]
    },
    {
      "cell_type": "markdown",
      "source": [
        "Эффект увеличился и p-value стал меньше 0,05. Поэтому после удаления выбросов гипотеза о том, что новые рекомендации дают эффект может приниматься."
      ],
      "metadata": {
        "id": "BA1g_V5qRXiH"
      }
    },
    {
      "cell_type": "markdown",
      "source": [
        "##3. Рассчитать метрики из п2 по дням и построить их графики. Принять решение о результате теста - обосновать.\n"
      ],
      "metadata": {
        "id": "4WoiK5z_RXiH"
      }
    },
    {
      "cell_type": "code",
      "source": [
        "payments_during_week_A = pd.DataFrame(columns = data_post.columns.values)\n",
        "\n",
        "for user in first_week_payment_A.index:\n",
        "  df = data_post[(data_post.group == \"A\")&(data_post.id_user == user)&(data_post.date < first_week_payment_A.loc[user][\"first_week_end\"])]\n",
        "  payments_during_week_A = payments_during_week_A.append(df)\n",
        "\n"
      ],
      "metadata": {
        "id": "xmQVX7P5b2zs"
      },
      "execution_count": 51,
      "outputs": []
    },
    {
      "cell_type": "code",
      "source": [
        "payments_during_week_B = pd.DataFrame(columns = data_post.columns.values)\n",
        "\n",
        "for user in first_week_payment_B.index:\n",
        "  df = data_post[(data_post.group == \"B\")&(data_post.id_user == user)&(data_post.date < first_week_payment_B.loc[user][\"first_week_end\"])]\n",
        "  payments_during_week_B = payments_during_week_B.append(df)\n"
      ],
      "metadata": {
        "id": "qBA_5tLteS9v"
      },
      "execution_count": 52,
      "outputs": []
    },
    {
      "cell_type": "code",
      "source": [
        "payments_during_week_A_no_outliers = payments_during_week_A[payments_during_week_A.sum_payment < payments_during_week_A.sum_payment.mean() + 3* payments_during_week_A.sum_payment.std()]\n",
        "payments_during_week_B_no_outliers = payments_during_week_B[payments_during_week_B.sum_payment < payments_during_week_B.sum_payment.mean() + 3* payments_during_week_B.sum_payment.std()]"
      ],
      "metadata": {
        "id": "9bf_Rnnpenwd"
      },
      "execution_count": 54,
      "outputs": []
    },
    {
      "cell_type": "code",
      "source": [
        "days = pd.date_range(start='5/1/2023', end='6/1/2023')\n",
        "avr_payments_A = []\n",
        "avr_payments_B = []\n",
        "\n",
        "p_val = []\n",
        "for i in range(days.shape[0]):\n",
        "  payments_by_day_A = payments_during_week_A_no_outliers[payments_during_week_A_no_outliers.date < days[i]]\n",
        "  payments_by_day_B = payments_during_week_B_no_outliers[payments_during_week_B_no_outliers.date < days[i]]\n",
        "\n",
        "  if payments_by_day_A.shape[0] > 0:\n",
        "    avr_payments_A.append(payments_by_day_A.sum_payment.sum() / payments_by_day_A.shape[0])\n",
        "  else:\n",
        "    avr_payments_A.append(0)\n",
        "  if payments_by_day_B.shape[0] > 0:\n",
        "    avr_payments_B.append(payments_by_day_B.sum_payment.sum() / payments_by_day_B.shape[0])\n",
        "  else:\n",
        "    avr_payments_B.append(0)\n",
        "\n",
        "  p_val.append(sps.ttest_ind(list(payments_by_day_A.sum_payment), list(payments_by_day_B.sum_payment), equal_var=True).pvalue)\n",
        "\n"
      ],
      "metadata": {
        "id": "PwdgrxB0RXiI"
      },
      "execution_count": 57,
      "outputs": []
    },
    {
      "cell_type": "code",
      "source": [
        "import matplotlib.pyplot as plt\n",
        "fig, ax = plt.subplots()\n",
        "\n",
        "plt.plot(days, avr_payments_A, c = \"r\", label=\"avr.payment A\")\n",
        "plt.plot(days, avr_payments_B, c= \"b\", label=\"avr.payment B\")\n",
        "plt.legend()\n",
        "plt.setp(ax.get_xticklabels(), rotation=45, ha=\"right\",\n",
        "         rotation_mode=\"anchor\")\n",
        "\n",
        "plt.show()"
      ],
      "metadata": {
        "colab": {
          "base_uri": "https://localhost:8080/",
          "height": 482
        },
        "outputId": "ffc17f05-935a-40a7-9be1-99b2c59e6947",
        "id": "tEWUCFp9RXiJ"
      },
      "execution_count": 58,
      "outputs": [
        {
          "output_type": "display_data",
          "data": {
            "text/plain": [
              "<Figure size 640x480 with 1 Axes>"
            ],
            "image/png": "[encoded data removed]"
          },
          "metadata": {}
        }
      ]
    },
    {
      "cell_type": "code",
      "source": [
        "alpha = [0.05 for _ in range(days.shape[0])]\n",
        "fig, ax = plt.subplots()\n",
        "\n",
        "plt.plot(days, p_val, c = \"green\", marker=\"*\", label=\"p-value\")\n",
        "plt.plot(days, alpha, c=\"r\", label=\"alpha\")\n",
        "plt.legend()\n",
        "plt.setp(ax.get_xticklabels(), rotation=45, ha=\"right\",\n",
        "         rotation_mode=\"anchor\")\n",
        "\n",
        "plt.show()"
      ],
      "metadata": {
        "colab": {
          "base_uri": "https://localhost:8080/",
          "height": 482
        },
        "outputId": "ed1da44a-3389-4ad9-8056-f020d30cd114",
        "id": "YTtbp5yeRXiJ"
      },
      "execution_count": 59,
      "outputs": [
        {
          "output_type": "display_data",
          "data": {
            "text/plain": [
              "<Figure size 640x480 with 1 Axes>"
            ],
            "image/png": "[encoded data removed]"
          },
          "metadata": {}
        }
      ]
    },
    {
      "cell_type": "markdown",
      "source": [
        "Как видно из графиков средние платежи пользователей действительно выросли по сравнению с контрольной группой. А значение p-value к концу периода тестирования стало меньше заданного уровня значимости 0,05.\n",
        "\n",
        "##Выводы:\n",
        "Новые рекомендации увеличивают целевую метрику, о чем свидетельствует t статистика, поэтому их можно внедрять в продакшн.\n"
      ],
      "metadata": {
        "id": "PrQrxoIzRXiK"
      }
    }
  ]
}